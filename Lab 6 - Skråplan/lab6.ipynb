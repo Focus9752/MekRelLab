{
 "cells": [
  {
   "cell_type": "code",
   "execution_count": 6,
   "metadata": {},
   "outputs": [
    {
     "name": "stdout",
     "output_type": "stream",
     "text": [
      "g1: -7.34 \n",
      " g2: -4.98 \n",
      " g3: -8.63 \n",
      " g4: -10.61 \n",
      " g5: -9.41\n"
     ]
    },
    {
     "data": {
      "text/plain": [
       "-8.19"
      ]
     },
     "execution_count": 6,
     "metadata": {},
     "output_type": "execute_result"
    }
   ],
   "source": [
    "import numpy as np\n",
    "import matplotlib as plt\n",
    "\n",
    "def mean_acceleration(t1, t2, t3, t4, t5):\n",
    "\n",
    "    # 13 cm\n",
    "    l = 0.13\n",
    "\n",
    "    v1_2 = (t2-t1)/l\n",
    "    v2_3 = (t3-t2)/l\n",
    "    v3_4 = (t4-t3)/l\n",
    "    v4_5 = (t5-t4)/l\n",
    "\n",
    "    a1 = (v2_3-v1_2)/(((t2+t3)/2)-((t1+t2)/2))\n",
    "    a2 = (v3_4-v2_3)/(((t3+t4)/2)-((t2+t3)/2))\n",
    "    a3 = (v4_5-v3_4)/(((t4+t5)/2)-((t3+t4)/2))\n",
    "\n",
    "    return np.mean([a1, a2, a3])\n",
    "\n",
    "# Vinkel i radianer\n",
    "vinkel = np.radians(9.05)\n",
    "\n",
    "def g(t1, t2, t3, t4, t5, theta):\n",
    "    return mean_acceleration(t1, t2, t3, t4, t5)/np.sin(theta)\n",
    "\n",
    "g1 = round(g(0.780, 1.00, 1.21, 1.37, 1.51, vinkel), 2)\n",
    "g2 = round(g(-160.70, -160.51, -160.4, -160.2, -160.06, vinkel), 2)\n",
    "g3 = round(g(-154.70, -154.46, -154.28, -154.121, -153.98, vinkel), 2)\n",
    "g4 = round(g(-150.20, -149.95, -149.76, -149.60, -149.47, vinkel), 2)\n",
    "g5 = round(g(-145.31, -145.06, -144.87, -144.71, -144.57, vinkel), 2)\n",
    "\n",
    "print(\"g1: {} \\n g2: {} \\n g3: {} \\n g4: {} \\n g5: {}\".format(g1,g2,g3,g4,g5))\n",
    "\n",
    "round(np.mean([g1,g2,g3,g4,g5]), 2)\n",
    "\n"
   ]
  },
  {
   "cell_type": "code",
   "execution_count": null,
   "metadata": {},
   "outputs": [],
   "source": []
  }
 ],
 "metadata": {
  "kernelspec": {
   "display_name": "base",
   "language": "python",
   "name": "python3"
  },
  "language_info": {
   "codemirror_mode": {
    "name": "ipython",
    "version": 3
   },
   "file_extension": ".py",
   "mimetype": "text/x-python",
   "name": "python",
   "nbconvert_exporter": "python",
   "pygments_lexer": "ipython3",
   "version": "3.11.4"
  }
 },
 "nbformat": 4,
 "nbformat_minor": 2
}
