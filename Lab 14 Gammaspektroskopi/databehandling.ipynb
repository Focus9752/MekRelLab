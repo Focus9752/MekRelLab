{
 "cells": [
  {
   "cell_type": "code",
   "execution_count": 21,
   "metadata": {},
   "outputs": [
    {
     "ename": "FileNotFoundError",
     "evalue": "C:\\Users\\marcu\\OneDrive\\Documents\\GitHub\\MekRelLab\\gammalab\\Cd-109.csv not found.",
     "output_type": "error",
     "traceback": [
      "\u001b[1;31m---------------------------------------------------------------------------\u001b[0m",
      "\u001b[1;31mFileNotFoundError\u001b[0m                         Traceback (most recent call last)",
      "Cell \u001b[1;32mIn[21], line 15\u001b[0m\n\u001b[0;32m     13\u001b[0m \u001b[38;5;66;03m# Indlæs data\u001b[39;00m\n\u001b[0;32m     14\u001b[0m baggrund \u001b[38;5;241m=\u001b[39m np\u001b[38;5;241m.\u001b[39mloadtxt(baggrund_loc, delimiter\u001b[38;5;241m=\u001b[39m\u001b[38;5;124m'\u001b[39m\u001b[38;5;124m,\u001b[39m\u001b[38;5;124m'\u001b[39m, skiprows\u001b[38;5;241m=\u001b[39m\u001b[38;5;241m1\u001b[39m)\n\u001b[1;32m---> 15\u001b[0m Ba133 \u001b[38;5;241m=\u001b[39m np\u001b[38;5;241m.\u001b[39mloadtxt(Ba133_loc, delimiter\u001b[38;5;241m=\u001b[39m\u001b[38;5;124m'\u001b[39m\u001b[38;5;124m,\u001b[39m\u001b[38;5;124m'\u001b[39m, skiprows\u001b[38;5;241m=\u001b[39m\u001b[38;5;241m1\u001b[39m)\n\u001b[0;32m     16\u001b[0m Cs137 \u001b[38;5;241m=\u001b[39m np\u001b[38;5;241m.\u001b[39mloadtxt(Cs137_loc, delimiter\u001b[38;5;241m=\u001b[39m\u001b[38;5;124m'\u001b[39m\u001b[38;5;124m,\u001b[39m\u001b[38;5;124m'\u001b[39m, skiprows\u001b[38;5;241m=\u001b[39m\u001b[38;5;241m1\u001b[39m)\n\u001b[0;32m     17\u001b[0m Co60 \u001b[38;5;241m=\u001b[39m np\u001b[38;5;241m.\u001b[39mloadtxt(Co60_loc, delimiter\u001b[38;5;241m=\u001b[39m\u001b[38;5;124m'\u001b[39m\u001b[38;5;124m,\u001b[39m\u001b[38;5;124m'\u001b[39m, skiprows\u001b[38;5;241m=\u001b[39m\u001b[38;5;241m1\u001b[39m)\n",
      "File \u001b[1;32mc:\\Users\\marcu\\anaconda3\\Lib\\site-packages\\numpy\\lib\\npyio.py:1356\u001b[0m, in \u001b[0;36mloadtxt\u001b[1;34m(fname, dtype, comments, delimiter, converters, skiprows, usecols, unpack, ndmin, encoding, max_rows, quotechar, like)\u001b[0m\n\u001b[0;32m   1353\u001b[0m \u001b[38;5;28;01mif\u001b[39;00m \u001b[38;5;28misinstance\u001b[39m(delimiter, \u001b[38;5;28mbytes\u001b[39m):\n\u001b[0;32m   1354\u001b[0m     delimiter \u001b[38;5;241m=\u001b[39m delimiter\u001b[38;5;241m.\u001b[39mdecode(\u001b[38;5;124m'\u001b[39m\u001b[38;5;124mlatin1\u001b[39m\u001b[38;5;124m'\u001b[39m)\n\u001b[1;32m-> 1356\u001b[0m arr \u001b[38;5;241m=\u001b[39m _read(fname, dtype\u001b[38;5;241m=\u001b[39mdtype, comment\u001b[38;5;241m=\u001b[39mcomment, delimiter\u001b[38;5;241m=\u001b[39mdelimiter,\n\u001b[0;32m   1357\u001b[0m             converters\u001b[38;5;241m=\u001b[39mconverters, skiplines\u001b[38;5;241m=\u001b[39mskiprows, usecols\u001b[38;5;241m=\u001b[39musecols,\n\u001b[0;32m   1358\u001b[0m             unpack\u001b[38;5;241m=\u001b[39munpack, ndmin\u001b[38;5;241m=\u001b[39mndmin, encoding\u001b[38;5;241m=\u001b[39mencoding,\n\u001b[0;32m   1359\u001b[0m             max_rows\u001b[38;5;241m=\u001b[39mmax_rows, quote\u001b[38;5;241m=\u001b[39mquotechar)\n\u001b[0;32m   1361\u001b[0m \u001b[38;5;28;01mreturn\u001b[39;00m arr\n",
      "File \u001b[1;32mc:\\Users\\marcu\\anaconda3\\Lib\\site-packages\\numpy\\lib\\npyio.py:975\u001b[0m, in \u001b[0;36m_read\u001b[1;34m(fname, delimiter, comment, quote, imaginary_unit, usecols, skiplines, max_rows, converters, ndmin, unpack, dtype, encoding)\u001b[0m\n\u001b[0;32m    973\u001b[0m     fname \u001b[38;5;241m=\u001b[39m os\u001b[38;5;241m.\u001b[39mfspath(fname)\n\u001b[0;32m    974\u001b[0m \u001b[38;5;28;01mif\u001b[39;00m \u001b[38;5;28misinstance\u001b[39m(fname, \u001b[38;5;28mstr\u001b[39m):\n\u001b[1;32m--> 975\u001b[0m     fh \u001b[38;5;241m=\u001b[39m np\u001b[38;5;241m.\u001b[39mlib\u001b[38;5;241m.\u001b[39m_datasource\u001b[38;5;241m.\u001b[39mopen(fname, \u001b[38;5;124m'\u001b[39m\u001b[38;5;124mrt\u001b[39m\u001b[38;5;124m'\u001b[39m, encoding\u001b[38;5;241m=\u001b[39mencoding)\n\u001b[0;32m    976\u001b[0m     \u001b[38;5;28;01mif\u001b[39;00m encoding \u001b[38;5;129;01mis\u001b[39;00m \u001b[38;5;28;01mNone\u001b[39;00m:\n\u001b[0;32m    977\u001b[0m         encoding \u001b[38;5;241m=\u001b[39m \u001b[38;5;28mgetattr\u001b[39m(fh, \u001b[38;5;124m'\u001b[39m\u001b[38;5;124mencoding\u001b[39m\u001b[38;5;124m'\u001b[39m, \u001b[38;5;124m'\u001b[39m\u001b[38;5;124mlatin1\u001b[39m\u001b[38;5;124m'\u001b[39m)\n",
      "File \u001b[1;32mc:\\Users\\marcu\\anaconda3\\Lib\\site-packages\\numpy\\lib\\_datasource.py:193\u001b[0m, in \u001b[0;36mopen\u001b[1;34m(path, mode, destpath, encoding, newline)\u001b[0m\n\u001b[0;32m    156\u001b[0m \u001b[38;5;250m\u001b[39m\u001b[38;5;124;03m\"\"\"\u001b[39;00m\n\u001b[0;32m    157\u001b[0m \u001b[38;5;124;03mOpen `path` with `mode` and return the file object.\u001b[39;00m\n\u001b[0;32m    158\u001b[0m \n\u001b[1;32m   (...)\u001b[0m\n\u001b[0;32m    189\u001b[0m \n\u001b[0;32m    190\u001b[0m \u001b[38;5;124;03m\"\"\"\u001b[39;00m\n\u001b[0;32m    192\u001b[0m ds \u001b[38;5;241m=\u001b[39m DataSource(destpath)\n\u001b[1;32m--> 193\u001b[0m \u001b[38;5;28;01mreturn\u001b[39;00m ds\u001b[38;5;241m.\u001b[39mopen(path, mode, encoding\u001b[38;5;241m=\u001b[39mencoding, newline\u001b[38;5;241m=\u001b[39mnewline)\n",
      "File \u001b[1;32mc:\\Users\\marcu\\anaconda3\\Lib\\site-packages\\numpy\\lib\\_datasource.py:533\u001b[0m, in \u001b[0;36mDataSource.open\u001b[1;34m(self, path, mode, encoding, newline)\u001b[0m\n\u001b[0;32m    530\u001b[0m     \u001b[38;5;28;01mreturn\u001b[39;00m _file_openers[ext](found, mode\u001b[38;5;241m=\u001b[39mmode,\n\u001b[0;32m    531\u001b[0m                               encoding\u001b[38;5;241m=\u001b[39mencoding, newline\u001b[38;5;241m=\u001b[39mnewline)\n\u001b[0;32m    532\u001b[0m \u001b[38;5;28;01melse\u001b[39;00m:\n\u001b[1;32m--> 533\u001b[0m     \u001b[38;5;28;01mraise\u001b[39;00m \u001b[38;5;167;01mFileNotFoundError\u001b[39;00m(\u001b[38;5;124mf\u001b[39m\u001b[38;5;124m\"\u001b[39m\u001b[38;5;132;01m{\u001b[39;00mpath\u001b[38;5;132;01m}\u001b[39;00m\u001b[38;5;124m not found.\u001b[39m\u001b[38;5;124m\"\u001b[39m)\n",
      "\u001b[1;31mFileNotFoundError\u001b[0m: C:\\Users\\marcu\\OneDrive\\Documents\\GitHub\\MekRelLab\\gammalab\\Cd-109.csv not found."
     ]
    }
   ],
   "source": [
    "import numpy as np\n",
    "import matplotlib.pyplot as plt\n",
    "\n",
    "# Filstier\n",
    "baggrund_loc = r\"C:\\Users\\marcu\\OneDrive\\Documents\\GitHub\\MekRelLab\\gammalab\\baggrund.csv\"\n",
    "Ba133_loc = r\"C:\\Users\\marcu\\OneDrive\\Documents\\GitHub\\MekRelLab\\gammalab\\Cd-109.csv\"\n",
    "Cs137_loc = r\"C:\\Users\\marcu\\OneDrive\\Documents\\GitHub\\MekRelLab\\gammalab\\Cs-137.csv\"\n",
    "Co60_loc = r\"C:\\Users\\marcu\\OneDrive\\Documents\\GitHub\\MekRelLab\\gammalab\\Co-60.csv\"\n",
    "Na22 = r\"C:\\Users\\marcu\\OneDrive\\Documents\\GitHub\\MekRelLab\\gammalab\\Na-22.csv\"\n",
    "Na22_180_grader_loc = r\"C:\\Users\\marcu\\OneDrive\\Documents\\GitHub\\MekRelLab\\gammalab\\Na-22-180-grader.csv\"\n",
    "Na22_90_grader_loc = r\"C:\\Users\\marcu\\OneDrive\\Documents\\GitHub\\MekRelLab\\gammalab\\Na-22-90-grader.csv\"\n",
    "\n",
    "# Indlæs data\n",
    "baggrund = np.loadtxt(baggrund_loc, delimiter=',', skiprows=1)\n",
    "Ba133 = np.loadtxt(Ba133_loc, delimiter=',', skiprows=1)\n",
    "Cs137 = np.loadtxt(Cs137_loc, delimiter=',', skiprows=1)\n",
    "Co60 = np.loadtxt(Co60_loc, delimiter=',', skiprows=1)\n",
    "Na22 = np.loadtxt(Na22, delimiter=',', skiprows=1)\n",
    "Na22_180_grader = np.loadtxt(Na22_180_grader_loc, delimiter=',', skiprows=1)\n",
    "Na22_90_grader = np.loadtxt(Na22_90_grader_loc, delimiter=',', skiprows=1)\n",
    "\n",
    "# Plot histogrammer\n",
    "plt.figure(figsize=(10, 6))\n",
    "\n",
    "plt.subplot(7, 1, 1)\n",
    "plt.hist(baggrund, bins=2000, color='blue', alpha=0.7)\n",
    "plt.title('Baggrund')\n",
    "plt.xlim(0, 4)\n",
    "\n",
    "plt.subplot(7, 1, 2)\n",
    "plt.hist(Ba133, bins=2000, color='green', alpha=0.7)\n",
    "plt.title('Cd-109')\n",
    "plt.xlim(0, 3.5)\n",
    "\n",
    "plt.subplot(7, 1, 3)\n",
    "plt.hist(Cs137, bins=2000, color='red', alpha=0.7)\n",
    "plt.title('Cs-137')\n",
    "plt.xlim(0, 3.5)\n",
    "\n",
    "plt.subplot(7, 1, 4)\n",
    "plt.hist(Co60, bins=2000, color='orange', alpha=0.7)\n",
    "plt.title('Co-60')\n",
    "plt.xlim(0, 3.5)\n",
    "\n",
    "plt.subplot(7, 1, 5)\n",
    "plt.hist(Na22, bins=2000, color='purple', alpha=0.7)\n",
    "plt.title('Na-22')\n",
    "plt.xlim(0, 3.5)\n",
    "\n",
    "plt.subplot(7, 1, 6)\n",
    "plt.hist(Na22_180_grader, bins=2000, color='black', alpha=0.7)\n",
    "plt.title('Na-22 180 grader')\n",
    "plt.xlim(0, 3.5)\n",
    "\n",
    "plt.subplot(7, 1, 7)\n",
    "plt.hist(Na22_90_grader, bins=2000, color='brown', alpha=0.7)\n",
    "plt.title('Na-22 90 grader')\n",
    "plt.xlim(0, 3.5)\n",
    "\n",
    "plt.tight_layout()\n",
    "plt.show()\n",
    "\n",
    "\n",
    "\n",
    "\n"
   ]
  }
 ],
 "metadata": {
  "kernelspec": {
   "display_name": "base",
   "language": "python",
   "name": "python3"
  },
  "language_info": {
   "codemirror_mode": {
    "name": "ipython",
    "version": 3
   },
   "file_extension": ".py",
   "mimetype": "text/x-python",
   "name": "python",
   "nbconvert_exporter": "python",
   "pygments_lexer": "ipython3",
   "version": "3.11.4"
  }
 },
 "nbformat": 4,
 "nbformat_minor": 2
}
