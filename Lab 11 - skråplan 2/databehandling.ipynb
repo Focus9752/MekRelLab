{
 "cells": [
  {
   "cell_type": "markdown",
   "metadata": {},
   "source": [
    "Bestem partielt afledede af udtrykket for $g$ og opstil udtryk for usikkerheden på $g$ vha. ophobningsloven"
   ]
  },
  {
   "cell_type": "code",
   "execution_count": 241,
   "metadata": {},
   "outputs": [],
   "source": [
    "import sympy as sp\n",
    "import numpy as np\n",
    "from scipy.optimize import curve_fit\n",
    "import matplotlib.pyplot as plt\n",
    "\n",
    "# Udtryk for g for de forskellige former\n",
    "a, R, r, theta = sp.symbols('a R r theta')\n",
    "\n",
    "g_solid_kugle = -(a*(1+(2 * R**2 /( 5 * r**2))))/sp.sin(theta)\n",
    "\n",
    "g_hul_kugle = -(a*(1+(2 * R**2 /( 3 * r**2))))/sp.sin(theta)\n",
    "\n",
    "g_hul_cylinder = -(a*(1+(R**2 / r**2)))/sp.sin(theta)\n",
    "\n",
    "# En funktion der returnerer en liste med de partielle afledede af et udtryk for g\n",
    "def partial_derivatives(expr):\n",
    "    return [(sp.diff(expr, var), var) for var in [a, R, r, theta]]\n",
    "\n",
    "# Brug ophobningsloven til at finde udtrykket for usikkerheden på g for et givent udtryk\n",
    "def ophobningslov(expr, uncertainties):\n",
    "    partials = partial_derivatives(expr)\n",
    "    return sp.sqrt(sum([(partials[i][0] * uncertainties[i])**2 for i in range(len(partials))]))\n",
    "\n"
   ]
  },
  {
   "cell_type": "code",
   "execution_count": 259,
   "metadata": {},
   "outputs": [
    {
     "name": "stdout",
     "output_type": "stream",
     "text": [
      "[0.001291566265060218, 0.2397915662650603, 0.4172915662650603, 0.5532915662650603, 0.6797915662650602]\n",
      "[0.001291566265060218, 0.2397915662650603, 0.4172915662650603, 0.5532915662650603, 0.6797915662650602]\n"
     ]
    }
   ],
   "source": [
    "# Filstier\n",
    "solid_kugle_1_loc = r\"C:\\Users\\marcu\\OneDrive\\Documents\\GitHub\\MekRelLab\\Lab 11 - skråplan 2\\data\\solid kugle nr 1.csv\"\n",
    "hul_kugle_loc = r\"C:\\Users\\marcu\\OneDrive\\Documents\\GitHub\\MekRelLab\\Lab 11 - skråplan 2\\data\\hul kugle nr 1.csv\"\n",
    "hul_cylinder_loc = r\"C:\\Users\\marcu\\OneDrive\\Documents\\GitHub\\MekRelLab\\Lab 11 - skråplan 2\\data\\cylinder nr 1.csv\"\n",
    "\n",
    "# Indlæs data fra csv-fil\n",
    "solid_kugle_1 = np.genfromtxt(solid_kugle_1_loc, delimiter=\",\", skip_header=1)\n",
    "solid_kugle_t_arr = solid_kugle_1[:, 0]\n",
    "solid_kugle_v_arr = solid_kugle_1[:, 1]\n",
    "\n",
    "hul_kugle = np.genfromtxt(hul_kugle_loc, delimiter=\",\", skip_header=1)\n",
    "hul_kugle_t_arr = hul_kugle[:, 0]\n",
    "hul_kugle_v_arr = hul_kugle[:, 1]\n",
    "\n",
    "hul_cylinder = np.genfromtxt(hul_cylinder_loc, delimiter=\",\", skip_header=1)\n",
    "hul_cylinder_t_arr = hul_cylinder[:, 0]\n",
    "hul_cylinder_v_arr = hul_cylinder[:, 1]\n",
    "\n",
    "# Returnerer tiderne knyttet til de første punkter over en given voltgrænse\n",
    "def find_peaks(time_arr, voltage_arr, V_limit):\n",
    "    peaks = []\n",
    "    # For hvert peak finder vi det første punkt over en voltgrænse\n",
    "    for i in range(len(voltage_arr)):\n",
    "        # Tjek om punktet er over grænsen\n",
    "        if voltage_arr[i] > V_limit:\n",
    "            # Hvis det forrige punkt er under grænsen i det første punkt over grænsen for et givent peak\n",
    "            if voltage_arr[i - 1] < V_limit:\n",
    "                peaks.append(time_arr[i])\n",
    "\n",
    "    return peaks\n",
    "\n",
    "# Find tiderne for de forskellige kugler\n",
    "peaks_solid_kugle = find_peaks(solid_kugle_t_arr, solid_kugle_v_arr, 3)\n",
    "peaks_hul_kugle = find_peaks(hul_kugle_t_arr, hul_kugle_v_arr, 3)\n",
    "peaks_hul_cylinder = find_peaks(hul_cylinder_t_arr, hul_cylinder_v_arr, 3)\n",
    "\n",
    "print(peaks_solid_kugle)\n",
    "\n",
    "# # Træk den første tid fra de andre og fjern den fra listen for at få en liste med tidspunkterne for gates 2-5\n",
    "# for i in range(1, len(peaks_solid_kugle)):\n",
    "#     peaks_solid_kugle[i] -= peaks_solid_kugle[0]\n",
    "#     peaks_hul_kugle[i] -= peaks_hul_kugle[0]\n",
    "#     peaks_hul_cylinder[i] -= peaks_hul_cylinder[0]\n",
    "\n",
    "print(peaks_solid_kugle)\n",
    "\n"
   ]
  },
  {
   "cell_type": "code",
   "execution_count": 243,
   "metadata": {},
   "outputs": [
    {
     "data": {
      "text/plain": [
       "5.41228880561763e-05"
      ]
     },
     "execution_count": 243,
     "metadata": {},
     "output_type": "execute_result"
    }
   ],
   "source": [
    "# Variable og usikkerheder\n",
    "# Acceleration\n",
    "a_solid_kugle = 0 # Skal tages fra fit til stedfunktion\n",
    "a_u_solid_kugle = 1 # Skal tages fra fit til stedfunktion\n",
    "\n",
    "a_hul_kugle = 0 # Skal tages fra fit til stedfunktion\n",
    "a_u_hul_kugle = 1 # Skal tages fra fit til stedfunktion\n",
    "\n",
    "a_hul_cylinder = 0 # Skal tages fra fit til stedfunktion\n",
    "a_u_hul_cylinder = 1 # Skal tages fra fit til stedfunktion\n",
    "\n",
    "# Tid\n",
    "t_u = 0.00025 # Sekunder\n",
    "\n",
    "# Radius\n",
    "R_u = 0.05 * 10**(-3) # Meter\n",
    "\n",
    "R_solid_kugle = 5.10 * 10**(-3) # Meter\n",
    "\n",
    "R_hul_kugle = 5.05 * 10**(-3) # Meter\n",
    "\n",
    "R_hul_cylinder = 16.0 * 10**(-3) # Meter\n",
    "\n",
    "# Omdrejningsradius\n",
    "r_u = 0.05 * 10**(-3) # Meter\n",
    "\n",
    "r_solid_kugle = 5.025 * 10**(-3) # Meter\n",
    "\n",
    "r_hul_kugle = 4.80 * 10**(-3) # Meter\n",
    "\n",
    "r_hul_cylinder = 16.0 * 10**(-3) # Meter\n",
    "\n",
    "# Afstand\n",
    "d_u = 0.5 * 10**(-2) # Meter\n",
    "dist_fotogates = [0.166, 0.176, 0.165, 0.177] # Meter\n",
    "\n",
    "d = np.sum(dist_fotogates)/1 # Meter\n",
    "\n",
    "# Vinklen mellem bunden af skråplanet og væggen bestemt ved A/B\n",
    "A = 89.7 #cm\n",
    "B = 22.1 #cm\n",
    "\n",
    "# Her bruges ophobningsloven til at finde usikkerheden på vinklen ud fra usikkerheden på længdemålingerne\n",
    "vinkel_u = np.sqrt(((B/(A**2 + B**2)) * d_u)**2 + ((-A/(A**2 + B**2)) * d_u)**2) # Radianer\n",
    "vinkel = np.arctan(A/B) # Radianer\n",
    "\n",
    "g_u_solid_kugle = ophobningslov(g_solid_kugle, [a_u_solid_kugle, R_u, r_u, vinkel_u])\n",
    "g_u_hul_kugle = ophobningslov(g_hul_kugle, [a_u_hul_kugle, R_u, r_u, vinkel_u])\n",
    "g_u_hul_cylinder = ophobningslov(g_hul_cylinder, [a_u_hul_cylinder, R_u, r_u, vinkel_u])\n",
    "\n",
    "# Beregn usikkerhederne på g for de forskellige former\n",
    "g_u_solid_kugle_sub = g_u_solid_kugle.subs({a: a_solid_kugle, r: r_solid_kugle, R: R_solid_kugle, theta: vinkel})\n",
    "g_u_hul_kugle_sub = g_u_hul_kugle.subs({a: a_hul_kugle, r: r_hul_kugle, R: R_hul_kugle, theta: vinkel})\n",
    "g_u_hul_cylinder_sub = g_hul_cylinder.subs({a: a_hul_cylinder, r: r_hul_cylinder, R: R_hul_cylinder, theta: vinkel})\n",
    "\n",
    "vinkel_u\n",
    "\n"
   ]
  },
  {
   "cell_type": "code",
   "execution_count": 274,
   "metadata": {},
   "outputs": [
    {
     "name": "stdout",
     "output_type": "stream",
     "text": [
      "parametre fra fittet [ 1.41773904e+00  5.25348725e-01 -6.92173298e-04]\n",
      "-2.06175301328048\n"
     ]
    },
    {
     "data": {
      "image/png": "[encoded data removed]",
      "text/plain": [
       "<Figure size 640x480 with 1 Axes>"
      ]
     },
     "metadata": {},
     "output_type": "display_data"
    }
   ],
   "source": [
    "# Lav fits til en stedfunktion med tiderne fra forsøgene\n",
    "\n",
    "# Funktionen der skal fittes\n",
    "def stedfunk(t, a, v_0, s_0):\n",
    "    s = a/2 * t**2 + v_0 * t + s_0\n",
    "    return s\n",
    "    \n",
    "# Afstanden til de forskellige tidspunkter er præfikssummen af afstanden mellem fotogatesne\n",
    "fit_dist = np.cumsum(dist_fotogates)\n",
    "fit_dist = np.insert(fit_dist, 0, 0)\n",
    "\n",
    "# Usikkerheder på tid og længde som array (til curve_fit)\n",
    "t_u_arr = np.full(len(fit_dist), t_u)\n",
    "d_u_arr = np.full(len(fit_dist), d_u)\n",
    "\n",
    "# Solid kugle\n",
    "\n",
    "# Fit til stedfunktion med v_0 som fri parameter\n",
    "param1_solid_kugle, cov1_solid_kugle = curve_fit(stedfunk, peaks_solid_kugle, fit_dist, p0=[0, 0, 0], sigma=t_u_arr, absolute_sigma=True)\n",
    "\n",
    "# Plot fit \n",
    "X = np.linspace(0, 1, 1000)\n",
    "Y = stedfunk(X, *param1_solid_kugle)\n",
    "\n",
    "plt.plot(X, Y, label=\"Fit til stedfunktion\")\n",
    "plt.plot(peaks_solid_kugle, fit_dist, \"x\", label=\"Data\")\n",
    "\n",
    "print(\"parametre fra fittet\", param1_solid_kugle)\n",
    "\n",
    "print(g_solid_kugle.subs({a: param1_solid_kugle[0], r: r_solid_kugle, R: R_solid_kugle, theta: vinkel}))\n"
   ]
  },
  {
   "cell_type": "code",
   "execution_count": 272,
   "metadata": {},
   "outputs": [
    {
     "data": {
      "text/latex": [
       "$\\displaystyle a$"
      ],
      "text/plain": [
       "a"
      ]
     },
     "execution_count": 272,
     "metadata": {},
     "output_type": "execute_result"
    }
   ],
   "source": [
    "\n",
    "\n",
    "\n"
   ]
  }
 ],
 "metadata": {
  "kernelspec": {
   "display_name": "base",
   "language": "python",
   "name": "python3"
  },
  "language_info": {
   "codemirror_mode": {
    "name": "ipython",
    "version": 3
   },
   "file_extension": ".py",
   "mimetype": "text/x-python",
   "name": "python",
   "nbconvert_exporter": "python",
   "pygments_lexer": "ipython3",
   "version": "3.11.4"
  }
 },
 "nbformat": 4,
 "nbformat_minor": 2
}
