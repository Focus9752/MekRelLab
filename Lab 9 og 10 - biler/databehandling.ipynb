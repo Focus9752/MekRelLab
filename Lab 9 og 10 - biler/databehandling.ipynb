{
 "cells": [
  {
   "cell_type": "code",
   "execution_count": 7,
   "metadata": {},
   "outputs": [
    {
     "data": {
      "text/plain": [
       "(array([ 8., 14.,  8.,  9.,  4.,  4.,  0.,  0.,  1.,  2.]),\n",
       " array([10.93079075, 12.53468895, 14.13858715, 15.74248535, 17.34638356,\n",
       "        18.95028176, 20.55417996, 22.15807816, 23.76197636, 25.36587457,\n",
       "        26.96977277]),\n",
       " <BarContainer object of 10 artists>)"
      ]
     },
     "execution_count": 7,
     "metadata": {},
     "output_type": "execute_result"
    },
    {
     "data": {
      "image/png": "[encoded data removed]",
      "text/plain": [
       "<Figure size 640x480 with 1 Axes>"
      ]
     },
     "metadata": {},
     "output_type": "display_data"
    }
   ],
   "source": [
    "# Indlæs numpy, pandas og matplotlib\n",
    "import numpy as np\n",
    "import pandas as pd\n",
    "import matplotlib.pyplot as plt\n",
    "\n",
    "# Starttider\n",
    "\n",
    "# Filadresser til data\n",
    "start_1_address = r\"C:\\Users\\marcu\\OneDrive\\Documents\\GitHub\\MekRelLab\\Lab 9 og 10 - biler\\bdata.xlsx\"\n",
    "start_2_address = r\"C:\\Users\\marcu\\OneDrive\\Documents\\GitHub\\MekRelLab\\Lab 9 og 10 - biler\\b2data.xlsx\"\n",
    "\n",
    "# Indlæs den anden kolonne i excel filerne\n",
    "start_1 = pd.read_excel(start_1_address, usecols=[1])\n",
    "start_2 = pd.read_excel(start_2_address, usecols=[1])\n",
    "\n",
    "# Konverter til numpy arrays\n",
    "start_1 = start_1.to_numpy()\n",
    "start_2 = start_2.to_numpy()\n",
    "\n",
    "# Gør det samme for sluttider\n",
    "slut_1_address = r\"C:\\Users\\marcu\\OneDrive\\Documents\\GitHub\\MekRelLab\\Lab 9 og 10 - biler\\Første.xlsx\"\n",
    "slut_2_address = r\"C:\\Users\\marcu\\OneDrive\\Documents\\GitHub\\MekRelLab\\Lab 9 og 10 - biler\\Anden.xlsx\"\n",
    "\n",
    "# Indlæs den anden kolonne i excel filerne\n",
    "slut_1 = pd.read_excel(slut_1_address, usecols=[1])\n",
    "slut_2 = pd.read_excel(slut_2_address, usecols=[1])\n",
    "\n",
    "# Konverter til numpy arrays\n",
    "slut_1 = slut_1.to_numpy()\n",
    "slut_2 = slut_2.to_numpy()\n",
    "\n",
    "l = 20\n",
    "\n",
    "v = lambda t1, t2 : l/(t2-t1)\n",
    "\n",
    "plt.hist(v(start_2, slut_2))\n"
   ]
  },
  {
   "cell_type": "code",
   "execution_count": 26,
   "metadata": {},
   "outputs": [
    {
     "data": {
      "text/plain": [
       "(array([15., 39., 58., 65., 34., 15., 10.,  3.,  2.,  2.]),\n",
       " array([ 4.65702543,  5.59020988,  6.52339434,  7.4565788 ,  8.38976325,\n",
       "         9.32294771, 10.25613217, 11.18931662, 12.12250108, 13.05568553,\n",
       "        13.98886999]),\n",
       " <BarContainer object of 10 artists>)"
      ]
     },
     "execution_count": 26,
     "metadata": {},
     "output_type": "execute_result"
    },
    {
     "data": {
      "image/png": "[encoded data removed]",
      "text/plain": [
       "<Figure size 640x480 with 1 Axes>"
      ]
     },
     "metadata": {},
     "output_type": "display_data"
    }
   ],
   "source": [
    "# Indlæs numpy, pandas og matplotlib\n",
    "import numpy as np\n",
    "import pandas as pd\n",
    "import matplotlib.pyplot as plt\n",
    "\n",
    "# Indlæs delta_tider\n",
    "delta_tider1 = pd.read_excel(r\"C:\\Users\\marcu\\OneDrive\\Documents\\GitHub\\MekRelLab\\dbata.xlsx\").to_numpy()\n",
    "delta_tider2 = pd.read_excel(r\"C:\\Users\\marcu\\OneDrive\\Documents\\GitHub\\MekRelLab\\dbata2.xlsx\").to_numpy()\n",
    "\n",
    "delta_tider = np.append(delta_tider1, delta_tider2)\n",
    "\n",
    "l = 6.03\n",
    "dl = 0.2\n",
    "dt = 0.2\n",
    "\n",
    "v_gennemsnit = np.mean([l / tid for tid in delta_tider])\n",
    "\n",
    "# Calculate mean velocity\n",
    "v = l / delta_tider\n",
    "\n",
    "# Calculate uncertainty in velocity\n",
    "dv = v * np.sqrt((dl / l)**2 + (dt / delta_tider)**2)\n",
    "\n",
    "plt.hist(v)"
   ]
  }
 ],
 "metadata": {
  "kernelspec": {
   "display_name": "base",
   "language": "python",
   "name": "python3"
  },
  "language_info": {
   "codemirror_mode": {
    "name": "ipython",
    "version": 3
   },
   "file_extension": ".py",
   "mimetype": "text/x-python",
   "name": "python",
   "nbconvert_exporter": "python",
   "pygments_lexer": "ipython3",
   "version": "3.11.4"
  }
 },
 "nbformat": 4,
 "nbformat_minor": 2
}
