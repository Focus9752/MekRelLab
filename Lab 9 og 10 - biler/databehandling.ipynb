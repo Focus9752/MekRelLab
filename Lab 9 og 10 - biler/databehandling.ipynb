{
 "cells": [
  {
   "cell_type": "code",
   "execution_count": 7,
   "metadata": {},
   "outputs": [
    {
     "data": {
      "text/plain": [
       "(array([ 8., 14.,  8.,  9.,  4.,  4.,  0.,  0.,  1.,  2.]),\n",
       " array([10.93079075, 12.53468895, 14.13858715, 15.74248535, 17.34638356,\n",
       "        18.95028176, 20.55417996, 22.15807816, 23.76197636, 25.36587457,\n",
       "        26.96977277]),\n",
       " <BarContainer object of 10 artists>)"
      ]
     },
     "execution_count": 7,
     "metadata": {},
     "output_type": "execute_result"
    },
    {
     "data": {
      "image/png": "[encoded data removed]",
      "text/plain": [
       "<Figure size 640x480 with 1 Axes>"
      ]
     },
     "metadata": {},
     "output_type": "display_data"
    }
   ],
   "source": [
    "# Indlæs numpy, pandas og matplotlib\n",
    "import numpy as np\n",
    "import pandas as pd\n",
    "import matplotlib.pyplot as plt\n",
    "\n",
    "# Starttider\n",
    "\n",
    "# Filadresser til data\n",
    "start_1_address = r\"C:\\Users\\marcu\\OneDrive\\Documents\\GitHub\\MekRelLab\\Lab 9 og 10 - biler\\bdata.xlsx\"\n",
    "start_2_address = r\"C:\\Users\\marcu\\OneDrive\\Documents\\GitHub\\MekRelLab\\Lab 9 og 10 - biler\\b2data.xlsx\"\n",
    "\n",
    "# Indlæs den anden kolonne i excel filerne\n",
    "start_1 = pd.read_excel(start_1_address, usecols=[1])\n",
    "start_2 = pd.read_excel(start_2_address, usecols=[1])\n",
    "\n",
    "# Konverter til numpy arrays\n",
    "start_1 = start_1.to_numpy()\n",
    "start_2 = start_2.to_numpy()\n",
    "\n",
    "# Gør det samme for sluttider\n",
    "slut_1_address = r\"C:\\Users\\marcu\\OneDrive\\Documents\\GitHub\\MekRelLab\\Lab 9 og 10 - biler\\Første.xlsx\"\n",
    "slut_2_address = r\"C:\\Users\\marcu\\OneDrive\\Documents\\GitHub\\MekRelLab\\Lab 9 og 10 - biler\\Anden.xlsx\"\n",
    "\n",
    "# Indlæs den anden kolonne i excel filerne\n",
    "slut_1 = pd.read_excel(slut_1_address, usecols=[1])\n",
    "slut_2 = pd.read_excel(slut_2_address, usecols=[1])\n",
    "\n",
    "# Konverter til numpy arrays\n",
    "slut_1 = slut_1.to_numpy()\n",
    "slut_2 = slut_2.to_numpy()\n",
    "\n",
    "l = 20\n",
    "\n",
    "v = lambda t1, t2 : l/(t2-t1)\n",
    "\n",
    "plt.hist(v(start_2, slut_2))\n"
   ]
  },
  {
   "cell_type": "code",
   "execution_count": 25,
   "metadata": {},
   "outputs": [
    {
     "data": {
      "text/plain": [
       "(array([ 7.13971043,  7.48619278,  8.13077218,  8.67154483,  8.3210406 ,\n",
       "         8.16229188,  9.09085303,  7.8651613 , 10.42280831,  7.1210113 ,\n",
       "         9.29759176,  7.88761249,  8.57630535,  7.03861163,  6.64173656,\n",
       "         7.17034397,  6.00225767,  6.06634335,  6.38104782,  5.85689345,\n",
       "         6.17555828,  6.01857787,  8.36859554, 12.53909379, 13.98886999,\n",
       "        11.96347765, 11.85941121,  9.11026158, 10.29444215, 10.51484584,\n",
       "         8.7118449 ,  8.66872424,  7.84819898,  9.55185617,  9.91099618,\n",
       "        10.28408199,  8.34331886,  7.16468495,  7.666012  ,  7.55636296,\n",
       "         7.35445674,  6.31198881,  7.33734529,  9.70247426, 13.43691127,\n",
       "         9.15287785,  9.76996052,  9.59538614,  9.06415025,  8.21898879,\n",
       "         7.82485751, 10.30196894,  9.98554308,  9.1338845 ,  8.36166762,\n",
       "         9.32657018,  8.25168208,  7.797277  ,  7.13049938, 10.88699449,\n",
       "         9.14101511,  9.90617872,  7.07703308,  8.79978411,  7.21561264,\n",
       "         6.70893892,  7.071463  ,  7.8162462 ,  7.46971423,  6.32736775,\n",
       "         5.74062582,  5.91671871,  5.43703653,  6.09182009,  5.14155492,\n",
       "         4.6868074 ,  8.93412603, 10.92559681,  8.05786665,  7.94132567,\n",
       "         7.23397243,  7.53183044,  6.38486402,  6.98363691,  7.80580558,\n",
       "         7.50776869,  8.47308877,  8.65506338,  8.29798792,  6.84013154,\n",
       "         7.58862816,  7.8662303 ,  6.77047919,  9.21412314,  8.30985865,\n",
       "        12.52557478, 11.56912299,  9.781258  ,  8.99474971,  9.09813913,\n",
       "         8.24543283,  7.51630302,  7.34906934,  8.29704332,  9.10125269,\n",
       "         6.97221088,  4.90096552,  9.92154805, 10.4296552 ,  9.28506484,\n",
       "         8.77945233,  9.18195311,  8.30537247,  8.12709088,  7.3497677 ,\n",
       "         8.56951428,  7.70296961,  8.40834181,  7.7365822 ,  7.91772773,\n",
       "         7.14936969,  7.40921757,  7.71150934,  8.48128894,  8.94907222,\n",
       "         8.36319941,  6.70569977,  9.65394754,  8.68089354,  9.40682243,\n",
       "         7.67268421,  8.97895891, 11.06361364,  8.30813073,  7.54199808,\n",
       "         6.75942332,  6.75805064,  7.96100562,  7.65502319,  8.08489742,\n",
       "         7.81462569,  7.03559828,  7.5068907 ,  8.72544791,  7.49606641,\n",
       "         7.41069383,  6.7565973 ,  6.20838411,  6.83506837,  6.69664465,\n",
       "         8.51638484,  7.96621121,  8.28520914,  7.20610012,  6.49200235,\n",
       "         6.10177577,  6.46118754,  5.73039865,  5.92958327,  5.49017339,\n",
       "         6.10333659,  5.53020777,  6.40274105,  8.74384596, 10.12903893,\n",
       "         7.22269907,  6.36670988,  5.97486401,  4.7574379 ,  5.35577312,\n",
       "         5.29326699,  7.02205545,  7.79365847,  7.40058022,  7.21643205,\n",
       "         7.33746237,  8.31430596,  7.9648866 ,  8.51917316,  7.09200784,\n",
       "         7.89707469,  5.97491765,  6.87368256,  5.78524425,  5.74470186,\n",
       "         6.83664253,  7.62950168, 10.54212453,  8.57459858,  8.06432324,\n",
       "         7.13576625,  7.66968737,  8.18108521,  7.52285804,  8.0870974 ,\n",
       "         7.13520057,  6.17126072,  5.71777538,  9.75073188,  5.24075393,\n",
       "         5.19769325,  5.76703458,  6.11836117,  7.68209712,  7.00577104,\n",
       "         5.88730976,  5.74531911,  5.46160105,  5.20038218,  7.78407816,\n",
       "         7.61509838,  7.00299709,  8.44264654,  9.64838646,  7.32510906,\n",
       "         8.28253388,  8.32694716,  7.23095284,  6.83206433,  6.96550171,\n",
       "         6.761393  ,  6.69289838,  6.29032468,  6.58524988,  5.96868383,\n",
       "         5.84456352,  6.06184769,  4.90207977,  4.65702543,  8.27418278,\n",
       "         7.35127378,  5.91127154,  6.67116476,  5.92969448,  6.64402045,\n",
       "         6.61354727,  7.06739437,  7.14872708,  6.27200032,  5.94530888,\n",
       "         7.9052943 ,  7.27332398,  6.53082368]),\n",
       " 7.722677508798743)"
      ]
     },
     "execution_count": 25,
     "metadata": {},
     "output_type": "execute_result"
    }
   ],
   "source": [
    "# Indlæs numpy, pandas og matplotlib\n",
    "import numpy as np\n",
    "import pandas as pd\n",
    "import matplotlib.pyplot as plt\n",
    "\n",
    "# Indlæs delta_tider\n",
    "delta_tider1 = pd.read_excel(r\"C:\\Users\\marcu\\OneDrive\\Documents\\GitHub\\MekRelLab\\dbata.xlsx\").to_numpy()\n",
    "delta_tider2 = pd.read_excel(r\"C:\\Users\\marcu\\OneDrive\\Documents\\GitHub\\MekRelLab\\dbata2.xlsx\").to_numpy()\n",
    "\n",
    "delta_tider = np.append(delta_tider1, delta_tider2)\n",
    "\n",
    "l = 6.03\n",
    "dl = 0.2\n",
    "dt = 0.2\n",
    "\n",
    "v_gennemsnit = np.mean([l / tid for tid in delta_tider])\n",
    "\n",
    "# Calculate mean velocity\n",
    "v = l / delta_tider\n",
    "\n",
    "# Calculate uncertainty in velocity\n",
    "dv = v * np.sqrt((dl / l)**2 + (dt / delta_tider)**2)\n",
    "\n",
    "plt.hist(v)"
   ]
  }
 ],
 "metadata": {
  "kernelspec": {
   "display_name": "base",
   "language": "python",
   "name": "python3"
  },
  "language_info": {
   "codemirror_mode": {
    "name": "ipython",
    "version": 3
   },
   "file_extension": ".py",
   "mimetype": "text/x-python",
   "name": "python",
   "nbconvert_exporter": "python",
   "pygments_lexer": "ipython3",
   "version": "3.11.4"
  }
 },
 "nbformat": 4,
 "nbformat_minor": 2
}
