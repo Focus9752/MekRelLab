{
 "cells": [
  {
   "cell_type": "code",
   "execution_count": 37,
   "metadata": {},
   "outputs": [
    {
     "data": {
      "text/plain": [
       "-7.49506903353057"
      ]
     },
     "execution_count": 37,
     "metadata": {},
     "output_type": "execute_result"
    }
   ],
   "source": [
    "import numpy as np\n",
    "\n",
    "def mean_acceleration(t1, t2, t3, t4, t5):\n",
    "    # 13 cm\n",
    "    l = 0.13\n",
    "\n",
    "    v1 = (t2-t1)/l\n",
    "    v2 = (t3-t2)/l\n",
    "    v3 = (t4-t3)/l\n",
    "    v4 = (t5-t4)/l\n",
    "\n",
    "    a1 = (v2-v1)/(t3-t2)\n",
    "    a2 = (v3-v2)/(t4-t3)\n",
    "    a3 = (v4-v3)/(t5-t4)\n",
    "\n",
    "    return np.mean([a1, a2, a3])\n",
    "\n",
    "målinger = [[]]\n",
    "resultater = [mean_acceleration(måling) for måling in målinger]\n",
    "resultater\n",
    "\n"
   ]
  }
 ],
 "metadata": {
  "kernelspec": {
   "display_name": "base",
   "language": "python",
   "name": "python3"
  },
  "language_info": {
   "codemirror_mode": {
    "name": "ipython",
    "version": 3
   },
   "file_extension": ".py",
   "mimetype": "text/x-python",
   "name": "python",
   "nbconvert_exporter": "python",
   "pygments_lexer": "ipython3",
   "version": "3.11.4"
  }
 },
 "nbformat": 4,
 "nbformat_minor": 2
}
