{
 "cells": [
  {
   "cell_type": "code",
   "execution_count": 1,
   "metadata": {},
   "outputs": [],
   "source": [
    "import sympy as sp\n",
    "import numpy as np\n",
    "from scipy.optimize import curve_fit\n",
    "import matplotlib.pyplot as plt\n",
    "from IPython.display import Markdown as md\n",
    "\n",
    "# Returnerer tiderne knyttet til de første punkter over en given voltgrænse\n",
    "def find_peaks(time_arr, voltage_arr, V_limit):\n",
    "    peaks = []\n",
    "    # For hvert peak finder vi det første punkt over en voltgrænse\n",
    "    for i in range(len(voltage_arr)):\n",
    "        # Tjek om punktet er over grænsen\n",
    "        if voltage_arr[i] > V_limit:\n",
    "            # Hvis det forrige punkt er under grænsen har vi fundet det første punkt over grænsen\n",
    "            if voltage_arr[i - 1] < V_limit:\n",
    "                peaks.append(time_arr[i])\n",
    "\n",
    "    return peaks"
   ]
  },
  {
   "cell_type": "code",
   "execution_count": 2,
   "metadata": {},
   "outputs": [
    {
     "ename": "NameError",
     "evalue": "name 'solid_kugle_1_loc' is not defined",
     "output_type": "error",
     "traceback": [
      "\u001b[1;31m---------------------------------------------------------------------------\u001b[0m",
      "\u001b[1;31mNameError\u001b[0m                                 Traceback (most recent call last)",
      "\u001b[1;32mc:\\Users\\marcu\\OneDrive\\Documents\\GitHub\\MekRelLab\\Lab 11 faldmaskinen\\lab12.ipynb Cell 2\u001b[0m line \u001b[0;36m5\n\u001b[0;32m      <a href='vscode-notebook-cell:/c%3A/Users/marcu/OneDrive/Documents/GitHub/MekRelLab/Lab%2011%20faldmaskinen/lab12.ipynb#W1sZmlsZQ%3D%3D?line=1'>2</a>\u001b[0m cyl_stor_r_loc \u001b[39m=\u001b[39m \u001b[39mr\u001b[39m\u001b[39m\"\u001b[39m\u001b[39mC:\u001b[39m\u001b[39m\\\u001b[39m\u001b[39mUsers\u001b[39m\u001b[39m\\\u001b[39m\u001b[39mmarcu\u001b[39m\u001b[39m\\\u001b[39m\u001b[39mOneDrive\u001b[39m\u001b[39m\\\u001b[39m\u001b[39mDocuments\u001b[39m\u001b[39m\\\u001b[39m\u001b[39mGitHub\u001b[39m\u001b[39m\\\u001b[39m\u001b[39mMekRelLab\u001b[39m\u001b[39m\\\u001b[39m\u001b[39mLab 11 faldmaskinen\u001b[39m\u001b[39m\\\u001b[39m\u001b[39mdata\u001b[39m\u001b[39m\\\u001b[39m\u001b[39mcylinder stor R.csv\u001b[39m\u001b[39m\"\u001b[39m\n\u001b[0;32m      <a href='vscode-notebook-cell:/c%3A/Users/marcu/OneDrive/Documents/GitHub/MekRelLab/Lab%2011%20faldmaskinen/lab12.ipynb#W1sZmlsZQ%3D%3D?line=3'>4</a>\u001b[0m \u001b[39m# Indlæs data fra csv-fil\u001b[39;00m\n\u001b[1;32m----> <a href='vscode-notebook-cell:/c%3A/Users/marcu/OneDrive/Documents/GitHub/MekRelLab/Lab%2011%20faldmaskinen/lab12.ipynb#W1sZmlsZQ%3D%3D?line=4'>5</a>\u001b[0m cyl_stor_r \u001b[39m=\u001b[39m np\u001b[39m.\u001b[39mgenfromtxt(solid_kugle_1_loc, delimiter\u001b[39m=\u001b[39m\u001b[39m\"\u001b[39m\u001b[39m,\u001b[39m\u001b[39m\"\u001b[39m, skip_header\u001b[39m=\u001b[39m\u001b[39m1\u001b[39m)\n\u001b[0;32m      <a href='vscode-notebook-cell:/c%3A/Users/marcu/OneDrive/Documents/GitHub/MekRelLab/Lab%2011%20faldmaskinen/lab12.ipynb#W1sZmlsZQ%3D%3D?line=5'>6</a>\u001b[0m cyl_stor_r_t_arr \u001b[39m=\u001b[39m cyl_stor_r[:, \u001b[39m0\u001b[39m]\n\u001b[0;32m      <a href='vscode-notebook-cell:/c%3A/Users/marcu/OneDrive/Documents/GitHub/MekRelLab/Lab%2011%20faldmaskinen/lab12.ipynb#W1sZmlsZQ%3D%3D?line=6'>7</a>\u001b[0m cyl_stor_r_v_arr \u001b[39m=\u001b[39m cyl_stor_r[:, \u001b[39m1\u001b[39m]\n",
      "\u001b[1;31mNameError\u001b[0m: name 'solid_kugle_1_loc' is not defined"
     ]
    }
   ],
   "source": [
    "# Filstier\n",
    "cyl_stor_r_loc = r\"C:\\Users\\marcu\\OneDrive\\Documents\\GitHub\\MekRelLab\\Lab 11 faldmaskinen\\data\\cylinder stor R.csv\"\n",
    "\n",
    "# Indlæs data fra csv-fil\n",
    "cyl_stor_r = np.genfromtxt(solid_kugle_1_loc, delimiter=\",\", skip_header=1)\n",
    "cyl_stor_r_t_arr = cyl_stor_r[:, 0]\n",
    "cyl_stor_r_v_arr = cyl_stor_r[:, 1]\n",
    "\n",
    "# Find peaks\n",
    "cyl_stor_r_peaks = find_peaks(cyl_stor_r_t_arr, cyl_stor_r_v_arr, 0.5)\n",
    "\n"
   ]
  }
 ],
 "metadata": {
  "kernelspec": {
   "display_name": "base",
   "language": "python",
   "name": "python3"
  },
  "language_info": {
   "codemirror_mode": {
    "name": "ipython",
    "version": 3
   },
   "file_extension": ".py",
   "mimetype": "text/x-python",
   "name": "python",
   "nbconvert_exporter": "python",
   "pygments_lexer": "ipython3",
   "version": "3.11.4"
  }
 },
 "nbformat": 4,
 "nbformat_minor": 2
}
