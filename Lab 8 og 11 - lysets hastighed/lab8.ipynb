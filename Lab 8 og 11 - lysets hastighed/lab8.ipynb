{
 "cells": [
  {
   "cell_type": "code",
   "execution_count": 22,
   "metadata": {},
   "outputs": [
    {
     "name": "stdout",
     "output_type": "stream",
     "text": [
      "3.532366e+08\n"
     ]
    }
   ],
   "source": [
    "import numpy as np\n",
    "import matplotlib.pyplot as plt\n",
    "from matplotlib import style\n",
    "from matplotlib.backends.backend_pdf import PdfPages\n",
    "import pandas as pd\n",
    "\n",
    "data_loc = r\"C:\\Users\\marcu\\OneDrive\\Documents\\GitHub\\MekRelLab\\Lab 8 og 11 - lysets hastighed\\lab 8.xlsx\"\n",
    "xls = pd.ExcelFile(data_loc)\n",
    "Dt_arr = np.array(pd.read_excel(xls))\n",
    "Dt_arr *= 10**(-9)\n",
    "\n",
    "l = 0.675*2\n",
    "\n",
    "res = np.mean(l/Dt_arr)\n",
    "\n",
    "# Funktion til at beregne lysets hastighed ud fra Dt_arr og en given længde\n",
    "def calc_c(Dt_arr, l):\n",
    "    v_c_arr = []\n",
    "    for i in range(len(Dt_arr)):\n",
    "        v_c_arr.append(l / Dt_arr[i])\n",
    "    return v_c_arr\n",
    "\n",
    "\n",
    "print(\"{:e}\".format(res))\n",
    "\n"
   ]
  }
 ],
 "metadata": {
  "kernelspec": {
   "display_name": "base",
   "language": "python",
   "name": "python3"
  },
  "language_info": {
   "codemirror_mode": {
    "name": "ipython",
    "version": 3
   },
   "file_extension": ".py",
   "mimetype": "text/x-python",
   "name": "python",
   "nbconvert_exporter": "python",
   "pygments_lexer": "ipython3",
   "version": "3.11.4"
  }
 },
 "nbformat": 4,
 "nbformat_minor": 2
}
