{
 "cells": [
  {
   "cell_type": "code",
   "execution_count": 6,
   "metadata": {},
   "outputs": [
    {
     "name": "stdout",
     "output_type": "stream",
     "text": [
      "2.719006e+08\n"
     ]
    }
   ],
   "source": [
    "import numpy as np\n",
    "import matplotlib.pyplot as plt\n",
    "from matplotlib import style\n",
    "from matplotlib.backends.backend_pdf import PdfPages\n",
    "import pandas as pd\n",
    "\n",
    "data_loc = r\"C:\\Users\\marcu\\OneDrive\\Documents\\GitHub\\MekRelLab\\Lab 8 og 11 - lysets hastighed\\rødt lys.xlsx\"\n",
    "xls = pd.ExcelFile(data_loc)\n",
    "# Indlæs alle ark i excelfilen som numpy arrays\n",
    "data = [np.array(pd.read_excel(xls, sheet_name=sheet)) for sheet in xls.sheet_names]\n",
    "# Første ark er afstandene fra beam splitteren til reflektoren (skal ganges med to for at tage højde for afstanden tilbage til sensoren) [m]\n",
    "distance = 0.755*2\n",
    "# Alle andre ark er tiderne det tog for lyset at nå detektoren (her omregnet til [s])\n",
    "time_arr = data[2:]\n",
    "\n",
    "# gang alle arrays i times med 10**-9 for at få tiderne i sekunder\n",
    "for i in range(len(time_arr)):\n",
    "    time_arr[i] = time_arr[i]*10**-9\n",
    "\n",
    "# En funktion til at beregne lysets gennemsnitlige hastighed ud fra tiderne og afstandene\n",
    "def c(times, distances):\n",
    "    return np.mean(distances/times)\n",
    "\n",
    "print(\"{:e}\".format(distance/np.mean(time_arr)))\n"
   ]
  },
  {
   "cell_type": "code",
   "execution_count": null,
   "metadata": {},
   "outputs": [],
   "source": []
  }
 ],
 "metadata": {
  "kernelspec": {
   "display_name": "base",
   "language": "python",
   "name": "python3"
  },
  "language_info": {
   "codemirror_mode": {
    "name": "ipython",
    "version": 3
   },
   "file_extension": ".py",
   "mimetype": "text/x-python",
   "name": "python",
   "nbconvert_exporter": "python",
   "pygments_lexer": "ipython3",
   "version": "3.11.4"
  }
 },
 "nbformat": 4,
 "nbformat_minor": 2
}
