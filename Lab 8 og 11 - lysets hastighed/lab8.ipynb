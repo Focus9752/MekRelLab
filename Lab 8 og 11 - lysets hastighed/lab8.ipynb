{
 "cells": [
  {
   "cell_type": "code",
   "execution_count": 10,
   "metadata": {},
   "outputs": [
    {
     "data": {
      "text/plain": [
       "[array([[3.958e-09],\n",
       "        [3.785e-09],\n",
       "        [3.532e-09],\n",
       "        [3.823e-09],\n",
       "        [3.557e-09],\n",
       "        [4.053e-09],\n",
       "        [4.138e-09],\n",
       "        [4.309e-09],\n",
       "        [4.919e-09],\n",
       "        [4.112e-09],\n",
       "        [3.630e-09],\n",
       "        [3.222e-09],\n",
       "        [3.635e-09],\n",
       "        [3.635e-09],\n",
       "        [4.295e-09],\n",
       "        [3.147e-09],\n",
       "        [3.994e-09],\n",
       "        [4.415e-09],\n",
       "        [4.065e-09],\n",
       "        [4.063e-09],\n",
       "        [4.468e-09],\n",
       "        [3.281e-09],\n",
       "        [3.076e-09],\n",
       "        [3.190e-09],\n",
       "        [4.223e-09],\n",
       "        [3.737e-09],\n",
       "        [3.427e-09],\n",
       "        [4.769e-09],\n",
       "        [3.969e-09],\n",
       "        [3.855e-09]]),\n",
       " array([[1.658e-08],\n",
       "        [1.639e-08],\n",
       "        [1.666e-08],\n",
       "        [1.657e-08],\n",
       "        [1.666e-08],\n",
       "        [1.708e-08],\n",
       "        [1.651e-08],\n",
       "        [1.644e-08],\n",
       "        [1.655e-08],\n",
       "        [1.579e-08],\n",
       "        [1.612e-08],\n",
       "        [1.748e-08],\n",
       "        [1.666e-08],\n",
       "        [1.635e-08],\n",
       "        [1.687e-08],\n",
       "        [1.657e-08],\n",
       "        [1.690e-08],\n",
       "        [1.673e-08],\n",
       "        [1.611e-08],\n",
       "        [1.627e-08],\n",
       "        [1.635e-08],\n",
       "        [1.563e-08],\n",
       "        [1.576e-08],\n",
       "        [1.659e-08],\n",
       "        [1.637e-08],\n",
       "        [1.629e-08],\n",
       "        [1.660e-08],\n",
       "        [1.652e-08],\n",
       "        [1.670e-08],\n",
       "        [1.645e-08]])]"
      ]
     },
     "execution_count": 10,
     "metadata": {},
     "output_type": "execute_result"
    }
   ],
   "source": [
    "import numpy as np\n",
    "import matplotlib.pyplot as plt\n",
    "from matplotlib import style\n",
    "from matplotlib.backends.backend_pdf import PdfPages\n",
    "import pandas as pd\n",
    "\n",
    "data_loc = r\"C:\\Users\\marcu\\OneDrive\\Documents\\GitHub\\MekRelLab\\Lab 8 og 11 - lysets hastighed\\lab 8.xlsx\"\n",
    "xls = pd.ExcelFile(data_loc)\n",
    "# Indlæs alle ark i excelfilen som numpy arrays\n",
    "data = [np.array(pd.read_excel(xls, sheet_name=sheet)) for sheet in xls.sheet_names]\n",
    "# Første ark er afstandene fra beam splitteren til reflektoren (skal ganges med to for at tage højde for afstanden tilbage til sensoren) [m]\n",
    "distances = data[0]*2\n",
    "# Alle andre ark er tiderne det tog for lyset at nå detektoren (her omregnet til [s])\n",
    "times = data[1:]\n",
    "\n",
    "# gang alle arrays i times med 10**-9 for at få tiderne i sekunder\n",
    "for i in range(len(times)):\n",
    "    times[i] = times[i]*10**-9\n",
    "\n",
    "# En funktion til at beregne lysets gennemsnitlige hastighed ud fra tiderne og afstandene\n",
    "def c(times, distances):\n",
    "    return np.mean(distances/(times))\n",
    "\n",
    "\n",
    "\n"
   ]
  }
 ],
 "metadata": {
  "kernelspec": {
   "display_name": "base",
   "language": "python",
   "name": "python3"
  },
  "language_info": {
   "codemirror_mode": {
    "name": "ipython",
    "version": 3
   },
   "file_extension": ".py",
   "mimetype": "text/x-python",
   "name": "python",
   "nbconvert_exporter": "python",
   "pygments_lexer": "ipython3",
   "version": "3.11.4"
  }
 },
 "nbformat": 4,
 "nbformat_minor": 2
}
