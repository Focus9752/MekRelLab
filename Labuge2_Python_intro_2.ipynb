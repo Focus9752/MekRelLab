{
 "cells": [
  {
   "cell_type": "markdown",
   "id": "3b62b68d",
   "metadata": {},
   "source": [
    "# Introduktion til Python i Mekanik og Relativitetsteori\n",
    "Af Charlie Lind-Thomsen, Athene Demuth, Craig Wigelsworth, Frida Birkedal Nielsen, Jeppe Grejs Petersen, Julie Harder Gabrielsen, Rasmus Madsen og Børge Svane Nielsen. September 2022."
   ]
  },
  {
   "attachments": {},
   "cell_type": "markdown",
   "id": "af4c5a34",
   "metadata": {},
   "source": [
    "Python er vores vigtigeste værktøj, når vi skal lave databehandling på de eksperimenter vi laver i FirstLab - og for rigtig mange andre fysikere. Her kommer der en intro til nogle af de første ting, som vi skal bruge.\n",
    "\n",
    "En guide til en mere udførlig beskrivelse af python kan findes her: https://python-intro.nbi.ku.dk/notebooks/Basal_python.html.\n",
    "\n",
    "Vi vil her kigge på en bold i frit fald</font>. "
   ]
  },
  {
   "attachments": {},
   "cell_type": "markdown",
   "id": "3f322da1",
   "metadata": {},
   "source": [
    "# Variable\n",
    "I lab er det vigtigt at kunne bruge og behandle de værdier, som man har målt i løbet af laboriatorietimen. Lad os sige at du har målt massen af en bold. Du vil nu gerne gemme variablen i dit Python scribt under navnet ```m_bold```. Til alle værdier hører en usikkerhed, og for variablen m_bold kan du fx. gemme den under navnet ```dm_bold```.\n",
    "\n",
    "Det er smart at gemme alle de værdier man har brugt ét sted, så det er nemt at finde igen. Når først at du har defineret ```m_bold``` til at være en bestemt værdi, og kørt cellen (tryk på 'Run' i task bar, eller tryk shift-enter), så vil Python huske værdien, og du vil kunne bruge ```m_bold``` i stedte for at skulle indsætte værdien hver gang.\n",
    "\n",
    "__Prøv at indsætte boldens masse til 1.5, usikkerhed 0.1 og tyngdeaccelration til 9.82 i cellen nedenfor.__ Da python kun bruger tal og ikke enheder, skal man tænke over hvilke enheder man benytter sig af når man skriver tallene, og laver sine udregninger. SI enheder er ofte ikke et dårligt valg, men det vigtiste er at man er konsekvent, og at man holder styr på hvilke enheder de udregne størrelser får."
   ]
  },
  {
   "cell_type": "code",
   "execution_count": null,
   "id": "4bd14f6c",
   "metadata": {},
   "outputs": [],
   "source": [
    "#Det her er en celle hvor du kan skrive kode. Skriver du # foran en sætningen, registreres det ikke som kode.\n",
    "# Cellen overfor, hvor vi har lavet en lang tekst kaldes \"markdown\". Dét kan du også lave i Jupyter Notebook - det er smart til kommende Python afleveringer :-)\n",
    "\n",
    "m_bold =             #Massen af bold, enhed:\n",
    "dm_bold =            #Usikkerhed på masse af bold, endhed:\n",
    "g_overflade =        #Tyngdeacceleration, enhed:"
   ]
  },
  {
   "attachments": {},
   "cell_type": "markdown",
   "id": "74b6a529",
   "metadata": {},
   "source": [
    "# Udregninger\n",
    "Så snart du har defineret nogle variable og kørt cellen, så kan du bruge variabel navnet til at lave udregninger. For eksempel kunne man udregne den kraft, som påvirker bolden  - se eksempel nedenfor. \n",
    "\n",
    "Når man vil have vist en værdi, kan man enten bruge kommandoen ``` print ```, eller skrive udregningen/ variablen i nederste kode linje. Python printer altid outputtet af den sidste linje kode du skriver i en celle. Man kan også kombinere tekst med værdier ved at tilføje tekst i cittationstegn i print kommandoen. Når tekst sættet i ciationstegn i kode kaldes det en _string_. Man kan printe flere ting i den samme print komando ved at komma separere de forskellige ting, der skal printes.\n",
    "\n",
    "__Prøv at kør cellen nedenfor for at se hvordan det virker__"
   ]
  },
  {
   "cell_type": "code",
   "execution_count": null,
   "id": "2ca4afee",
   "metadata": {},
   "outputs": [],
   "source": [
    "F_tyngde = m_bold * g_overflade   #For at denne udregning virker skal du have indsat både en værdi for m_bold og en værdi for g_tyngde i cellen ovenover\n",
    "\n",
    "print(F_tyngde)\n",
    "print(\"Tyngdekraften på bolden er\", F_tyngde, \"Newton\")\n",
    "F_tyngde"
   ]
  },
  {
   "cell_type": "markdown",
   "id": "a07950dc",
   "metadata": {},
   "source": [
    "## Arrays\n",
    "Hvis du har målt den samme værdi flere gange er det smart at sætte værdierne i et array. Nedenfor er et eksempel på et array, hvor radius af en bold er målt flere gange. \n",
    "\n",
    "For at vælge et bestemt element i dit array kan man skrive ```R_målinger[2]```. Husk at Python 0-indekserer, så 2 vil henvise til det tredje element, altså værdien 12 cm. __Prøv at printe et af elemeterne i listen, sammen med noget tekst.__"
   ]
  },
  {
   "cell_type": "code",
   "execution_count": null,
   "id": "17c7ef0f",
   "metadata": {},
   "outputs": [],
   "source": [
    "R_målinger = [12.1, 11.6, 12.0, 13.0, 12.5] #Enhed cm.  Radius af bold"
   ]
  },
  {
   "cell_type": "code",
   "execution_count": null,
   "id": "ed5a4dad",
   "metadata": {},
   "outputs": [],
   "source": [
    "## din kode her\n",
    "# prøv at print den 3. måling i 'R_målinger', \n",
    "# prøv også at printe det sidste element (kan tilgås ved at skrive fx. R_målinger[-1])."
   ]
  },
  {
   "cell_type": "markdown",
   "id": "81b4b18e",
   "metadata": {},
   "source": [
    "## Numpy udregninger\n",
    "\n",
    "Hvis man vil lave udregninger med arrays kan man bruge pakken numpy. Numpy har også en række værktøjer til statistik. Numpy er en af de pakker, som mange fysikere bruger mest, så den er god at blive venner med. Hent først pakken numpy ved at skrive ```import numpy as np```. Så kan du kalde på funktioner i det bibliotek ved at skrive ```np``` foran den funktion fra biblioteket du vil bruge. Lav gerne importeringen af dine biblioteker i starten af din kode - så gælder den for hele dit dokument, også efter at den server er genstartet. Læs mere om numpy på https://python-intro.nbi.ku.dk/notebooks/MekRel/Numpy.html.\n",
    "\n",
    "Syntaksen på at lave et numpy array er ```navn_på_array = np.array([x,y,z,....])```. Prøv selv at gemme dise målinger af forskellige positioner i et numpy array. \n",
    "    \n",
    "    1.09 3.90 9.17 16.0 25.0 35.9 [m] \n",
    "    \n",
    "og tiden til disse positions målinger er \n",
    "    \n",
    "    0.9 2.0 3.0 3.9 5.0 6.0 [s].\n",
    "    \n",
    "Derefter kan du omdanne arrayet ```R_målinger```til et numpy array ved at skrive ```R_målinger_numpy_array = np.array(R_målinger)```. Navnet på arrayet \"R_målinger_numpy_array\" er valgt som et eksempel. Du kan også kalde den noget helt andet. "
   ]
  },
  {
   "cell_type": "code",
   "execution_count": null,
   "id": "1a184fe0",
   "metadata": {},
   "outputs": [],
   "source": [
    "import numpy as np"
   ]
  },
  {
   "cell_type": "code",
   "execution_count": null,
   "id": "f697ffaf",
   "metadata": {},
   "outputs": [],
   "source": [
    "R_målinger = np.array([1.09, 3.9, 9.17, 16, 25, 35.9])"
   ]
  },
  {
   "cell_type": "code",
   "execution_count": null,
   "id": "c5163fad",
   "metadata": {},
   "outputs": [],
   "source": [
    "#import numpy as np\n",
    "# importer numpy og lav to arrays med henholdsvis afstand og tid\n",
    "# din kode her"
   ]
  },
  {
   "attachments": {},
   "cell_type": "markdown",
   "id": "d070d43f",
   "metadata": {},
   "source": [
    "Når man har to tilhørende målinger, kan det være smart at gemme dem i ét samlet array. Så er det helt tydeligt i ens datastruktur, hvilke datapunkter, der hører sammen. Vi kan lave et numpy array med to søjler, som hver har samme længde som tids- og positionsmålingerne ved at definere et array som ```samlet_data = np.zeros((len(navn_på_array), 2))```. Her henviser ```len(navn_på_array)``` til længden på dit array, som hedder ```navn_på_array``` - bemærk igen, at \"samlet_data\" og \"navn_på_array\" blot er navne, som kun har den begrænsning, at det sidste skal defineres udfra det sidste array.\n",
    "\n",
    "```np.zeros()``` skaber en liste, som kun består af 0-tallet.\n",
    "\n",
    "Vi vil nu gerne udfylde 0-tallerne med dataet fra tids- og stedmålingerne. Dette kan vi gøre på en elegent måde ved at udnytte indekseringer på arrayet. Hvis vi vil indsætte dataen fra ```navn_på_array``` i hele den første søjle, så kan vi blot skrive ```samlet_data[:,0] = navn_på_array```. Det sted vi har placeret det første indeks, \":\", henviser til hvilken række vi vil have, og kolon betyder, at vi vælger hele rækken. Det næste indeks \"0\" henviser til hvilken søjle, vi gerne vil have - her vælger vi den 1. søjle (da vi igen husker, at Python indekserer med 0).\n",
    "\n",
    "__Prøv at printe forskellige versioner af ```samlet_data[række_indeks, søjle_indeks]``` for at få en fornemmelse af hvordan det fungerer.__ Prøv gerne at eksperimentere med hvor høje indekser du kan skrive hvert sted - overvej om dette giver mening.\n",
    "\n",
    "__Indsæt sted- og tidsdata på i ét samlet array.__ Du kan navngive det som du har lyst."
   ]
  },
  {
   "cell_type": "code",
   "execution_count": null,
   "id": "fda38262",
   "metadata": {},
   "outputs": [],
   "source": [
    "# din kode her. \n",
    "# samlet_data = np.zeros((len(navn_på_array), 2))\n",
    "# samlet_data[:,0] = navn_på_array"
   ]
  },
  {
   "attachments": {},
   "cell_type": "markdown",
   "id": "6d12ecf6",
   "metadata": {},
   "source": [
    "## Standard numpy funktioner\n",
    "\n",
    "Numpy har en masse gode funktioner, der gør at vi kan regne på vores variable. Hvad end vores værdier kommer som et tal eller et array. Nedenfor er listet nogle brugbare funktioner, beskrevet i python kode, samt nogle standard operationer."
   ]
  },
  {
   "cell_type": "code",
   "execution_count": null,
   "id": "7420e351",
   "metadata": {},
   "outputs": [],
   "source": [
    "#import numpy as np\n",
    "\n",
    "x=np.pi\n",
    "print(\"x+1    = \", 1+x) # Vi kan plusse...\n",
    "print(\"2*x    = \", 2*x) # Og gange...\n",
    "print(\"x/4    = \", x/4) # Endda dividere  \n",
    "print(\"x^4 = \", x**4)   # og opløfte i potens\n",
    "print(\"sin(x) = \", np.sin(x)) # Numpy indeholder blandt andet sinus og cosinus\n",
    "print(\"cos(x) = \", np.cos(x)) # Og en masse andet.....\n",
    "print(\"sqrt(x) = \", np.sqrt(x))\n",
    "print(\"ln(x) = \", np.log(x))\n",
    "print(\"exp(x) = \", np.exp(x))"
   ]
  },
  {
   "cell_type": "markdown",
   "id": "59d2645e",
   "metadata": {},
   "source": [
    "Prøv at udregne $ \\tan(x) \\cdot \\exp(-x^2/a^2)$, hvor $x= 2 e^3 $ og $a= pi$. Prøv derefter at tage kvadratroden af dit array med positioner. Resultatet af at bruge den function på et array bør også være et array. Giver dine resultater mening?"
   ]
  },
  {
   "cell_type": "code",
   "execution_count": null,
   "id": "a4e96676",
   "metadata": {},
   "outputs": [],
   "source": [
    "# din kode her"
   ]
  },
  {
   "cell_type": "markdown",
   "id": "9058207b",
   "metadata": {},
   "source": [
    "## Gennemsnit \n",
    "\n",
    "Numpy kan også udregne gennemsnit ved brug af kommandoerne ```np.mean()```. Prøv at udregne gennemsnittet på målingerne af radius af bolden, og gem værdierne ved at give dem et navn, ligsom vi gjorde i 2. celle. "
   ]
  },
  {
   "cell_type": "code",
   "execution_count": null,
   "id": "1add7cdb",
   "metadata": {},
   "outputs": [],
   "source": [
    "# Din kode her. Udregn gennemsnit og std på målinger af radius og gem værdierne som nye varible \n",
    "\n"
   ]
  },
  {
   "cell_type": "markdown",
   "id": "d1368339",
   "metadata": {},
   "source": [
    "Hvis du vil lave mere statistik på dit data, så læs om standardafvigelse og usikkerheder i statistiknoten, kapitel 1.4, 1.5 og 1.6. Du kan finde statistiknoten her: https://absalon.ku.dk/courses/70224/pages/laboratoriet (inde under Absalon - laboratoriet - link under litteratur). Du kan i så fald få brug for kommandoen  ```np.std()```, som finder standardafvigelsen af et array.\n",
    "\n",
    "__Ekstra:__ Prøv ud fra formlen i statistiknoten at lave dine egen udregning af standardafvigelsen og usikkerheden, ved hjælp af fx. funktionen ```np.sum ```. Sammenlign derefter med dine resultater fundet ved hjælp af ```np.std```."
   ]
  },
  {
   "cell_type": "markdown",
   "id": "70721bf4",
   "metadata": {},
   "source": [
    "# Plot af data\n",
    "Ofte vil du gerne repræsentere dine data med et plot. Her er det helt essentielt at det er let at læse. Det vil sige, at der skal være akselabels med enheder og labels på dét data, du plotter, så det er tydeligt hvad det er - dette kræver også en \"label-kassen\", som i Python kaldes en legend. Du kan læse mere om, hvordan man plotter her: https://python-intro.nbi.ku.dk/notebooks/MekRel/Matplotlib_pyplot.html\n",
    "\n",
    "For at plotte skal du importere pakken matplotlib. Det gør du ved at skrive ```import matplotlib.pyplot as plt ```. Matplotlib er også blandt de pakker, som fysikere bruger meget - Matplotlib kan altså også godt betale sig, at blive gode venner med :-).\n",
    "\n",
    "Nedenfor ses et eksempel på et plot."
   ]
  },
  {
   "cell_type": "code",
   "execution_count": null,
   "id": "2387d772",
   "metadata": {},
   "outputs": [],
   "source": [
    "# Eksempel på et plot - ikke gjort pænt :)\n",
    "# Importer matplotlib.pyplot FØR du kører denne celle.\n",
    "\n",
    "x = np.array([0,1,2,3])\n",
    "y = x**2\n",
    "plt.plot(x,y)"
   ]
  },
  {
   "cell_type": "markdown",
   "id": "40f97af2",
   "metadata": {},
   "source": [
    "Nedenfor er givet nogle data for en bold, der falder fra en højde, hvilken tid det har taget, og usikkerheden på tiden. Din opgave er nu at lave et flot plot. Det vil sige at der er errorbars, akselabels og legend, og at dine datapunkter vises som punkter, og ikke som forbundne linjer.\n",
    "\n",
    "\n",
    "Højden hvorfra bolden slippes angivet i meter:\n",
    "\n",
    "    0.5, 0.7, 0.9, 1, 1.2\n",
    "Tiden det har taget bolden at falde i s:\n",
    "\n",
    "    0.34, 0.39, 0.43, 0.46, 0.50\n",
    "Usikkerheden på tiden:\n",
    "\n",
    "    0.03, 0.02, 0.02, 0.01, 0.02"
   ]
  },
  {
   "cell_type": "code",
   "execution_count": null,
   "id": "33a7c049",
   "metadata": {},
   "outputs": [],
   "source": [
    "# din kode her, husk at impotere matplotlib.pyplot som 'plt'"
   ]
  },
  {
   "cell_type": "code",
   "execution_count": null,
   "id": "12a27c2b",
   "metadata": {},
   "outputs": [],
   "source": [
    "#hvis du har brug for hjælp til errorbars, kør evt denne kode.\n",
    "help(plt.errorbar)"
   ]
  },
  {
   "attachments": {},
   "cell_type": "markdown",
   "id": "bcf7e06f",
   "metadata": {},
   "source": [
    "## Plot af histogrammer\n",
    "\n",
    "Udover at lave plots, så kan det også være rart at have mulighed for at plotte histogrammer. Histogrammer kan laces på baggrund af en række data, som stammer fra det \"samme\" forsøg - altså hvor den samme parameter måles flere gange. Histogrammet viser hyppigheden af dataet i et bestemt interval. Hvis man i lab måler perioden for en penduls svigning flere gange ved de samme omstændigheder (samme længde, startvinkel, osv.), kunne man fx plotte dette i et histogram, for at se, hvordan dataen er spredt. Et eksempel på sådan et datasæte kunne være\n",
    "\n",
    "    1.23, 1.22, 1.21, 1.21, 1.22, 1.22, 1.23, 1.24, 1.20, 1.21, 1.22\n",
    "\n",
    "Man plotter histogrammer i Python med ```plt.hist()``` kommandoen. Her indsætter man som første argument ens array med data, der skal plottes i histogrammet. Man bør derudover specificere hvor mange _bins_ man gerne vil have i sit histogram - altså hvor mange _søjler_ der skal være. Man skal typisk prøve sig frem for at finde en bin-størrelse, der passer til ens datasæt. Hvis man vil plotte et datasæt, som hedder ```datasæt```, og give det 5 bins, så vil man skrive ```plt.hist(datasæt, bins=5)```.\n",
    "\n",
    "Du kan læse mere om histogrammer i Python note (https://python-intro.nbi.ku.dk/notebooks/MekRel/Histogram.html).\n",
    "\n",
    "__Prøv at plotte det givne datasæt for sviningstider ovenfor. Find selv en passende binstørrelse.__\n",
    "\n",
    "Det kan også være smart at kunne plotte middelværdien for sit datasæt, da man tit er interesseret i at se noget statistik om sit datasæt, når man laver et histogram. Dette kan man gøre ved funktionen ```plt.axvline()```, som er indsat i koden nedenfor. Det første indeks er middelværdien (__Indsæt selv middelværdien af datasættet__), og vi har derefter specificeret farven, linjestilen og tykkelsen af linjen - prøv selv at finde en farve og linjetype du kan lide."
   ]
  },
  {
   "cell_type": "code",
   "execution_count": 1,
   "id": "417776c1",
   "metadata": {},
   "outputs": [],
   "source": [
    "# din kode her. (fjern #'s nedenfor for at bruge koden)\n",
    "#svingningstider = np.array([1.23, 1.22, 1.21, 1.21, 1.22, 1.22, 1.23, 1.24, 1.20, 1.21, 1.22])\n",
    "#plt.hist()\n",
    "#plt.axvline(middelværdi_af_data, color=\"red\", linestyle='dashed', linewidth=1)\n"
   ]
  },
  {
   "attachments": {},
   "cell_type": "markdown",
   "id": "075cf81e",
   "metadata": {},
   "source": [
    "## Udregninger med numpy og plot af funktioner\n",
    "\n",
    "Nogle gange kan det være godt at vise sine datapunkter sammen med den model, der burde beskrive relationenen mellem datasættene. I tilfældet fra 'Plot af data', hvor faldtiden og sliphøjden af en bold undersøges,kan vi fx. plotte modellen:\n",
    "\n",
    "$$\n",
    "x(t) = \\frac{1}{2} \\cdot g \\cdot t^2\n",
    "$$\n",
    "\n",
    "Læs om hvordan man skriver funktioner i pyhon her: https://python-intro.nbi.ku.dk/notebooks/MekRel/Funktioner_og_Scipy_optimize-checkpoint.html. Opskriv derefter din funktion. Hint: I det her tilfælde er t din eneste variabel. Brug ```np.sqrt()```for at lave en kvadratrod og ```np.pi```for at få $\\pi$ og ```** 2``` for at lave ^2.\n",
    "\n",
    "Når du har skrevet din funktion kan du prøve at bruge den på en dummy variabel der er vores argument i x(t) funktionen. Vores dummy t kan vi fx. lave ved at skrive ```tx = np.linspace(0,1,50)```. Den linje kode laver et numpy array med 50 tal med værdi fra 0 til 1 sekund. Prøv nu at bruge din funktion på arrayet ved at skrive noget i stil med ```udregnede_position = navn_på_funktion(tx)```. Print derefter arrayet.\n",
    "\n",
    "Nu kan vi plotte værdierne ved at skrive ```plt.plot(tx,udregnede_position)```. For at have funktionen i samme plot som din data kan du kopiere de linjer du brugte til at plotte med i cellen under 'Plot af data', og tilføje dem i cellen, hvor du plotter funktionen. Husk at data og funktion skal have samme enheder på akserne."
   ]
  },
  {
   "cell_type": "code",
   "execution_count": null,
   "id": "4d580824",
   "metadata": {},
   "outputs": [],
   "source": [
    "# Din kode her"
   ]
  },
  {
   "attachments": {},
   "cell_type": "markdown",
   "id": "2b002221",
   "metadata": {},
   "source": [
    "# For og if-loops \n",
    "\n",
    "For-loops er noget vi bruger, hvis vi gerne vil udføre nogle operationer en masse gange, fx gøre noget ved nogle tal i en liste. If-loops er logiske loops, som du kan bruge til at udføre nogle særlige operationer, hvis et bestemt element overholder nogle bestemte krav - eller til at udvælge noget bestemt data. Det er relativt abstrakt og generelt - fordi det er nogle mekanismer, der kan bruges til _rigtig_ mange ting, så lad os undersøge det lidt i et konkret eksempel.\n",
    "\n",
    "Hvis vi har en liste med alle hele tal fra 0 til 20, så kan vi fx være interesseret i at finde alle lige tal. For at konstruere listen med alle hele tal fra 0 til 20 kan vi bruge numpy funktionen ```np.arange()```. Det første input i funktionen tager det første tal, du gerne vil have med i din liste. Det andet input er det du gerne vil tælle op til, og det tredje indeks er hvilken \"spacing\" der skal være imellem hvert tal. Vi skal dog være opmærksomme på, at listen vil tælle op til det sidste input, men ikke indeholde det. Hvis vi vil have alle hele tal fra 0 til og med 20 vil vi altså skrive ```np.arange(0, 21, 1)```, fordi vi gerne vil tælle fra 0 til 21 (for at inkludere 20), med et mellemrum på 1 imellem hvert tal.\n",
    "\n",
    "Vi vil nu kigge listen igennem og tjekke om tallene er lige - altså om de går op i 2. Vi bruger et for-loop, og tjekker hele listen igennem (vi benytter ```len(tal_liste)```, som netop er mængden af tal i listen ```tal_liste```). Alle disse indekser kalder vi ```i``` - de kunne også hedde alt muligt andet, fx Jørgen, men man bruger typisk ```i```. Vi vil så gerne gøre noget, hvis det i'te element i listen af tal går op i 2 (\"går op i 2\" kan man skrive som ```%2``` i Python. ```%``` betyder modulus og er den 'rest', der er tilbage efter man dividerer. Ex: 5 % 2 = 1). \n",
    "Find selv på noget smart at gøre, hvis det i'te element går op i 2 - spørg gerne din instruktor :-).\n",
    "\n",
    "__Færdiggør koden, og undersøg gerne selv noget sjovt med for- eller if-loops__\n",
    "\n",
    "Du kan læse mere om for- og if-lopps i Python noten: https://python-intro.nbi.ku.dk/notebooks/Andet_python.html."
   ]
  },
  {
   "cell_type": "code",
   "execution_count": null,
   "id": "5994e852",
   "metadata": {},
   "outputs": [],
   "source": [
    "# din kode her.\n",
    "\n",
    "#talliste = np.arange(start_tal, slut_tal, mellem_imellem_tal)\n",
    "#for i in range(len(talliste)):\n",
    "#    if talliste[i]%2==0:\n"
   ]
  },
  {
   "cell_type": "markdown",
   "id": "e33a999d",
   "metadata": {},
   "source": [
    "__Ekstra opgaver__:\n",
    "- Find alle tal, der går op i 3 fra 0 til 20.\n",
    "- Find alle tal der går op i 5 fra 0 til 100.\n",
    "- Find alle primtal fra 0 til 20."
   ]
  }
 ],
 "metadata": {
  "kernelspec": {
   "display_name": "Python 3",
   "language": "python",
   "name": "python3"
  },
  "language_info": {
   "codemirror_mode": {
    "name": "ipython",
    "version": 3
   },
   "file_extension": ".py",
   "mimetype": "text/x-python",
   "name": "python",
   "nbconvert_exporter": "python",
   "pygments_lexer": "ipython3",
   "version": "3.9.12"
  },
  "vscode": {
   "interpreter": {
    "hash": "3987431a61030be8fa2c88f74f04dd735d848bc4c05be5762a75a5fb4e863e25"
   }
  }
 },
 "nbformat": 4,
 "nbformat_minor": 5
}
