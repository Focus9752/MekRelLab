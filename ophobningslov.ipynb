{
 "cells": [
  {
   "cell_type": "code",
   "execution_count": null,
   "metadata": {},
   "outputs": [],
   "source": [
    "import sympy as sp\n",
    "import numpy as np\n",
    "from scipy.optimize import curve_fit\n",
    "import matplotlib.pyplot as plt\n",
    "from IPython.display import Markdown as md\n",
    "\n",
    "# Definer variable her\n",
    "M, D = sp.symbols(\"M D\")\n",
    "variables = [M, D]\n",
    "\n",
    "I = (2/5)*M*(D/2)**2\n",
    "\n",
    "# En funktion der returnerer en liste med de partielle afledede af et udtryk\n",
    "def partial_derivatives(expr):\n",
    "    return [(sp.diff(expr, var), var) for var in variables]\n",
    "\n",
    "# Brug ophobningsloven til at finde udtrykket for usikkerheden på g for et givent udtryk\n",
    "# Tager et udtryk, en liste med usikkerheder på parametrene og en liste med parametre fra et fit som input\n",
    "def prop_uncert(expr, uncertainties):\n",
    "    partials = partial_derivatives(expr)\n",
    "    expr = sp.sqrt(sum([(partials[i][0] * uncertainties[i])**2 for i in range(len(partials))]))\n",
    "    return expr\n",
    "\n",
    "print(partial_derivatives(I))\n",
    "\n",
    "prop_uncert(I, [0.1, 0.2])\n",
    "\n",
    "\n"
   ]
  }
 ],
 "metadata": {
  "kernelspec": {
   "display_name": "base",
   "language": "python",
   "name": "python3"
  },
  "language_info": {
   "codemirror_mode": {
    "name": "ipython",
    "version": 3
   },
   "file_extension": ".py",
   "mimetype": "text/x-python",
   "name": "python",
   "nbconvert_exporter": "python",
   "pygments_lexer": "ipython3",
   "version": "3.11.4"
  }
 },
 "nbformat": 4,
 "nbformat_minor": 2
}
