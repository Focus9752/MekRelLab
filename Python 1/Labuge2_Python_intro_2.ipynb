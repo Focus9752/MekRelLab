{
 "cells": [
  {
   "cell_type": "markdown",
   "id": "3b62b68d",
   "metadata": {},
   "source": [
    "# Introduktion til Python i Mekanik og Relativitetsteori\n",
    "Af Charlie Lind-Thomsen, Athene Demuth, Craig Wigelsworth, Frida Birkedal Nielsen, Jeppe Grejs Petersen, Julie Harder Gabrielsen, Rasmus Madsen og Børge Svane Nielsen. September 2022."
   ]
  },
  {
   "attachments": {},
   "cell_type": "markdown",
   "id": "af4c5a34",
   "metadata": {},
   "source": [
    "Python er vores vigtigeste værktøj, når vi skal lave databehandling på de eksperimenter vi laver i FirstLab - og for rigtig mange andre fysikere. Her kommer der en intro til nogle af de første ting, som vi skal bruge.\n",
    "\n",
    "En guide til en mere udførlig beskrivelse af python kan findes her: https://python-intro.nbi.ku.dk/notebooks/Basal_python.html.\n",
    "\n",
    "Vi vil her kigge på en bold i frit fald</font>. "
   ]
  },
  {
   "attachments": {},
   "cell_type": "markdown",
   "id": "3f322da1",
   "metadata": {},
   "source": [
    "# Variable\n",
    "I lab er det vigtigt at kunne bruge og behandle de værdier, som man har målt i løbet af laboriatorietimen. Lad os sige at du har målt massen af en bold. Du vil nu gerne gemme variablen i dit Python scribt under navnet ```m_bold```. Til alle værdier hører en usikkerhed, og for variablen m_bold kan du fx. gemme den under navnet ```dm_bold```.\n",
    "\n",
    "Det er smart at gemme alle de værdier man har brugt ét sted, så det er nemt at finde igen. Når først at du har defineret ```m_bold``` til at være en bestemt værdi, og kørt cellen (tryk på 'Run' i task bar, eller tryk shift-enter), så vil Python huske værdien, og du vil kunne bruge ```m_bold``` i stedte for at skulle indsætte værdien hver gang.\n",
    "\n",
    "__Prøv at indsætte boldens masse til 1.5, usikkerhed 0.1 og tyngdeaccelration til 9.82 i cellen nedenfor.__ Da python kun bruger tal og ikke enheder, skal man tænke over hvilke enheder man benytter sig af når man skriver tallene, og laver sine udregninger. SI enheder er ofte ikke et dårligt valg, men det vigtiste er at man er konsekvent, og at man holder styr på hvilke enheder de udregne størrelser får."
   ]
  },
  {
   "cell_type": "code",
   "execution_count": 1,
   "id": "4bd14f6c",
   "metadata": {},
   "outputs": [],
   "source": [
    "#Det her er en celle hvor du kan skrive kode. Skriver du # foran en sætningen, registreres det ikke som kode.\n",
    "# Cellen overfor, hvor vi har lavet en lang tekst kaldes \"markdown\". Dét kan du også lave i Jupyter Notebook - det er smart til kommende Python afleveringer :-)\n",
    "\n",
    "m_bold = 1.5            #Massen af bold, enhed:\n",
    "dm_bold = 0.1           #Usikkerhed på masse af bold, endhed:\n",
    "g_overflade = 9.82       #Tyngdeacceleration, enhed:"
   ]
  },
  {
   "attachments": {},
   "cell_type": "markdown",
   "id": "74b6a529",
   "metadata": {},
   "source": [
    "# Udregninger\n",
    "Så snart du har defineret nogle variable og kørt cellen, så kan du bruge variabel navnet til at lave udregninger. For eksempel kunne man udregne den kraft, som påvirker bolden  - se eksempel nedenfor. \n",
    "\n",
    "Når man vil have vist en værdi, kan man enten bruge kommandoen ``` print ```, eller skrive udregningen/ variablen i nederste kode linje. Python printer altid outputtet af den sidste linje kode du skriver i en celle. Man kan også kombinere tekst med værdier ved at tilføje tekst i cittationstegn i print kommandoen. Når tekst sættet i ciationstegn i kode kaldes det en _string_. Man kan printe flere ting i den samme print komando ved at komma separere de forskellige ting, der skal printes.\n",
    "\n",
    "__Prøv at kør cellen nedenfor for at se hvordan det virker__"
   ]
  },
  {
   "cell_type": "code",
   "execution_count": 2,
   "id": "2ca4afee",
   "metadata": {},
   "outputs": [
    {
     "name": "stdout",
     "output_type": "stream",
     "text": [
      "14.73\n",
      "Tyngdekraften på bolden er 14.73 Newton\n"
     ]
    },
    {
     "data": {
      "text/plain": [
       "14.73"
      ]
     },
     "execution_count": 2,
     "metadata": {},
     "output_type": "execute_result"
    }
   ],
   "source": [
    "F_tyngde = m_bold * g_overflade   #For at denne udregning virker skal du have indsat både en værdi for m_bold og en værdi for g_tyngde i cellen ovenover\n",
    "\n",
    "print(F_tyngde)\n",
    "print(\"Tyngdekraften på bolden er\", F_tyngde, \"Newton\")\n",
    "F_tyngde"
   ]
  },
  {
   "cell_type": "markdown",
   "id": "a07950dc",
   "metadata": {},
   "source": [
    "## Arrays\n",
    "Hvis du har målt den samme værdi flere gange er det smart at sætte værdierne i et array. Nedenfor er et eksempel på et array, hvor radius af en bold er målt flere gange. \n",
    "\n",
    "For at vælge et bestemt element i dit array kan man skrive ```R_målinger[2]```. Husk at Python 0-indekserer, så 2 vil henvise til det tredje element, altså værdien 12 cm. __Prøv at printe et af elemeterne i listen, sammen med noget tekst.__"
   ]
  },
  {
   "cell_type": "code",
   "execution_count": 3,
   "id": "17c7ef0f",
   "metadata": {},
   "outputs": [],
   "source": [
    "R_målinger = [12.1, 11.6, 12.0, 13.0, 12.5] #Enhed cm.  Radius af bold"
   ]
  },
  {
   "cell_type": "code",
   "execution_count": 5,
   "id": "ed5a4dad",
   "metadata": {},
   "outputs": [
    {
     "name": "stdout",
     "output_type": "stream",
     "text": [
      "12.0 tadaa\n"
     ]
    },
    {
     "data": {
      "text/plain": [
       "12.5"
      ]
     },
     "execution_count": 5,
     "metadata": {},
     "output_type": "execute_result"
    }
   ],
   "source": [
    "## din kode her\n",
    "# prøv at print den 3. måling i 'R_målinger', \n",
    "# prøv også at printe det sidste element (kan tilgås ved at skrive fx. R_målinger[-1]).\n",
    "\n",
    "import numpy as np\n",
    "\n",
    "print(str(R_målinger[2]) + \" tadaa\")\n",
    "R_målinger[-1]"
   ]
  },
  {
   "cell_type": "markdown",
   "id": "81b4b18e",
   "metadata": {},
   "source": [
    "## Numpy udregninger\n",
    "\n",
    "Hvis man vil lave udregninger med arrays kan man bruge pakken numpy. Numpy har også en række værktøjer til statistik. Numpy er en af de pakker, som mange fysikere bruger mest, så den er god at blive venner med. Hent først pakken numpy ved at skrive ```import numpy as np```. Så kan du kalde på funktioner i det bibliotek ved at skrive ```np``` foran den funktion fra biblioteket du vil bruge. Lav gerne importeringen af dine biblioteker i starten af din kode - så gælder den for hele dit dokument, også efter at den server er genstartet. Læs mere om numpy på https://python-intro.nbi.ku.dk/notebooks/MekRel/Numpy.html.\n",
    "\n",
    "Syntaksen på at lave et numpy array er ```navn_på_array = np.array([x,y,z,....])```. Prøv selv at gemme dise målinger af forskellige positioner i et numpy array. \n",
    "    \n",
    "    1.09 3.90 9.17 16.0 25.0 35.9 [m] \n",
    "    \n",
    "og tiden til disse positions målinger er \n",
    "    \n",
    "    0.9 2.0 3.0 3.9 5.0 6.0 [s].\n",
    "    \n",
    "Derefter kan du omdanne arrayet ```R_målinger```til et numpy array ved at skrive ```R_målinger_numpy_array = np.array(R_målinger)```. Navnet på arrayet \"R_målinger_numpy_array\" er valgt som et eksempel. Du kan også kalde den noget helt andet. "
   ]
  },
  {
   "cell_type": "code",
   "execution_count": 6,
   "id": "1a184fe0",
   "metadata": {},
   "outputs": [],
   "source": [
    "import numpy as np"
   ]
  },
  {
   "cell_type": "code",
   "execution_count": 7,
   "id": "f697ffaf",
   "metadata": {},
   "outputs": [],
   "source": [
    "R_målinger = np.array([1.09, 3.9, 9.17, 16, 25, 35.9])"
   ]
  },
  {
   "cell_type": "code",
   "execution_count": 8,
   "id": "c5163fad",
   "metadata": {},
   "outputs": [],
   "source": [
    "import numpy as np\n",
    "# importer numpy og lav to arrays med henholdsvis afstand og tid\n",
    "# din kode her\n",
    "R_målinger = np.array([1.09, 3.9, 9.17, 16, 25, 35.9])\n",
    "T_målinger = np.array([0.9, 2.0, 3.0, 3.9, 5.0, 6.0])"
   ]
  },
  {
   "attachments": {},
   "cell_type": "markdown",
   "id": "d070d43f",
   "metadata": {},
   "source": [
    "Når man har to tilhørende målinger, kan det være smart at gemme dem i ét samlet array. Så er det helt tydeligt i ens datastruktur, hvilke datapunkter, der hører sammen. Vi kan lave et numpy array med to søjler, som hver har samme længde som tids- og positionsmålingerne ved at definere et array som ```samlet_data = np.zeros((len(navn_på_array), 2))```. Her henviser ```len(navn_på_array)``` til længden på dit array, som hedder ```navn_på_array``` - bemærk igen, at \"samlet_data\" og \"navn_på_array\" blot er navne, som kun har den begrænsning, at det sidste skal defineres udfra det sidste array.\n",
    "\n",
    "```np.zeros()``` skaber en liste, som kun består af 0-tallet.\n",
    "\n",
    "Vi vil nu gerne udfylde 0-tallerne med dataet fra tids- og stedmålingerne. Dette kan vi gøre på en elegent måde ved at udnytte indekseringer på arrayet. Hvis vi vil indsætte dataen fra ```navn_på_array``` i hele den første søjle, så kan vi blot skrive ```samlet_data[:,0] = navn_på_array```. Det sted vi har placeret det første indeks, \":\", henviser til hvilken række vi vil have, og kolon betyder, at vi vælger hele rækken. Det næste indeks \"0\" henviser til hvilken søjle, vi gerne vil have - her vælger vi den 1. søjle (da vi igen husker, at Python indekserer med 0).\n",
    "\n",
    "__Prøv at printe forskellige versioner af ```samlet_data[række_indeks, søjle_indeks]``` for at få en fornemmelse af hvordan det fungerer.__ Prøv gerne at eksperimentere med hvor høje indekser du kan skrive hvert sted - overvej om dette giver mening.\n",
    "\n",
    "__Indsæt sted- og tidsdata på i ét samlet array.__ Du kan navngive det som du har lyst."
   ]
  },
  {
   "cell_type": "code",
   "execution_count": 18,
   "id": "fda38262",
   "metadata": {},
   "outputs": [
    {
     "name": "stdout",
     "output_type": "stream",
     "text": [
      "[[ 0.9   1.09]\n",
      " [ 2.    3.9 ]\n",
      " [ 3.    9.17]\n",
      " [ 3.9  16.  ]\n",
      " [ 5.   25.  ]\n",
      " [ 6.   35.9 ]]\n"
     ]
    }
   ],
   "source": [
    "# din kode her. \n",
    "# samlet_data = np.zeros((len(navn_på_array), 2))\n",
    "# samlet_data[:,0] = navn_på_array\n",
    "\n",
    "TR_array = np.zeros((len(T_målinger), 2))\n",
    "\n",
    "TR_array[:, 0] = T_målinger\n",
    "TR_array[:, 1] = R_målinger\n",
    "\n",
    "\n"
   ]
  },
  {
   "attachments": {},
   "cell_type": "markdown",
   "id": "6d12ecf6",
   "metadata": {},
   "source": [
    "## Standard numpy funktioner\n",
    "\n",
    "Numpy har en masse gode funktioner, der gør at vi kan regne på vores variable. Hvad end vores værdier kommer som et tal eller et array. Nedenfor er listet nogle brugbare funktioner, beskrevet i python kode, samt nogle standard operationer."
   ]
  },
  {
   "cell_type": "code",
   "execution_count": 19,
   "id": "7420e351",
   "metadata": {},
   "outputs": [
    {
     "name": "stdout",
     "output_type": "stream",
     "text": [
      "x+1    =  4.141592653589793\n",
      "2*x    =  6.283185307179586\n",
      "x/4    =  0.7853981633974483\n",
      "x^4 =  97.40909103400242\n",
      "sin(x) =  1.2246467991473532e-16\n",
      "cos(x) =  -1.0\n",
      "sqrt(x) =  1.7724538509055159\n",
      "ln(x) =  1.1447298858494002\n",
      "exp(x) =  23.140692632779267\n"
     ]
    }
   ],
   "source": [
    "#import numpy as np\n",
    "\n",
    "x=np.pi\n",
    "print(\"x+1    = \", 1+x) # Vi kan plusse...\n",
    "print(\"2*x    = \", 2*x) # Og gange...\n",
    "print(\"x/4    = \", x/4) # Endda dividere  \n",
    "print(\"x^4 = \", x**4)   # og opløfte i potens\n",
    "print(\"sin(x) = \", np.sin(x)) # Numpy indeholder blandt andet sinus og cosinus\n",
    "print(\"cos(x) = \", np.cos(x)) # Og en masse andet.....\n",
    "print(\"sqrt(x) = \", np.sqrt(x))\n",
    "print(\"ln(x) = \", np.log(x))\n",
    "print(\"exp(x) = \", np.exp(x))"
   ]
  },
  {
   "cell_type": "markdown",
   "id": "59d2645e",
   "metadata": {},
   "source": [
    "Prøv at udregne $ \\tan(x) \\cdot \\exp(-x^2/a^2)$, hvor $x= 2 e^3 $ og $a= pi$. Prøv derefter at tage kvadratroden af dit array med positioner. Resultatet af at bruge den function på et array bør også være et array. Giver dine resultater mening?"
   ]
  },
  {
   "cell_type": "code",
   "execution_count": 54,
   "id": "a4e96676",
   "metadata": {},
   "outputs": [
    {
     "name": "stdout",
     "output_type": "stream",
     "text": [
      "tan(x) * exp(-x^2/a^2) = 5.085780704124299e-18\n"
     ]
    }
   ],
   "source": [
    "# din kode her\n",
    "x = np.exp(3)\n",
    "a = np.pi\n",
    "\n",
    "print(\"tan(x) * exp(-x^2/a^2) = \" + str(np.tan(x) * np.exp(-x**2/a**2)))\n"
   ]
  },
  {
   "cell_type": "markdown",
   "id": "9058207b",
   "metadata": {},
   "source": [
    "## Gennemsnit \n",
    "\n",
    "Numpy kan også udregne gennemsnit ved brug af kommandoerne ```np.mean()```. Prøv at udregne gennemsnittet på målingerne af radius af bolden, og gem værdierne ved at give dem et navn, ligsom vi gjorde i 2. celle. "
   ]
  },
  {
   "cell_type": "code",
   "execution_count": 29,
   "id": "1add7cdb",
   "metadata": {},
   "outputs": [
    {
     "name": "stdout",
     "output_type": "stream",
     "text": [
      "15.176666666666668\n"
     ]
    }
   ],
   "source": [
    "# Din kode her. Udregn gennemsnit og std på målinger af radius og gem værdierne som nye varible \n",
    "R_mean = np.mean(R_målinger)\n",
    "print(R_mean)\n"
   ]
  },
  {
   "cell_type": "markdown",
   "id": "d1368339",
   "metadata": {},
   "source": [
    "Hvis du vil lave mere statistik på dit data, så læs om standardafvigelse og usikkerheder i statistiknoten, kapitel 1.4, 1.5 og 1.6. Du kan finde statistiknoten her: https://absalon.ku.dk/courses/70224/pages/laboratoriet (inde under Absalon - laboratoriet - link under litteratur). Du kan i så fald få brug for kommandoen  ```np.std()```, som finder standardafvigelsen af et array.\n",
    "\n",
    "__Ekstra:__ Prøv ud fra formlen i statistiknoten at lave dine egen udregning af standardafvigelsen og usikkerheden, ved hjælp af fx. funktionen ```np.sum ```. Sammenlign derefter med dine resultater fundet ved hjælp af ```np.std```."
   ]
  },
  {
   "cell_type": "markdown",
   "id": "70721bf4",
   "metadata": {},
   "source": [
    "# Plot af data\n",
    "Ofte vil du gerne repræsentere dine data med et plot. Her er det helt essentielt at det er let at læse. Det vil sige, at der skal være akselabels med enheder og labels på dét data, du plotter, så det er tydeligt hvad det er - dette kræver også en \"label-kassen\", som i Python kaldes en legend. Du kan læse mere om, hvordan man plotter her: https://python-intro.nbi.ku.dk/notebooks/MekRel/Matplotlib_pyplot.html\n",
    "\n",
    "For at plotte skal du importere pakken matplotlib. Det gør du ved at skrive ```import matplotlib.pyplot as plt ```. Matplotlib er også blandt de pakker, som fysikere bruger meget - Matplotlib kan altså også godt betale sig, at blive gode venner med :-).\n",
    "\n",
    "Nedenfor ses et eksempel på et plot."
   ]
  },
  {
   "cell_type": "code",
   "execution_count": 31,
   "id": "2387d772",
   "metadata": {},
   "outputs": [
    {
     "data": {
      "text/plain": [
       "[<matplotlib.lines.Line2D at 0x19ce460cfd0>]"
      ]
     },
     "execution_count": 31,
     "metadata": {},
     "output_type": "execute_result"
    },
    {
     "data": {
      "image/png": "[encoded data removed]",
      "text/plain": [
       "<Figure size 640x480 with 1 Axes>"
      ]
     },
     "metadata": {},
     "output_type": "display_data"
    }
   ],
   "source": [
    "# Eksempel på et plot - ikke gjort pænt :)\n",
    "# Importer matplotlib.pyplot FØR du kører denne celle.\n",
    "import matplotlib.pyplot as plt\n",
    "\n",
    "x = np.array([0,1,2,3])\n",
    "y = x**2\n",
    "plt.plot(x,y)"
   ]
  },
  {
   "cell_type": "markdown",
   "id": "40f97af2",
   "metadata": {},
   "source": [
    "Nedenfor er givet nogle data for en bold, der falder fra en højde, hvilken tid det har taget, og usikkerheden på tiden. Din opgave er nu at lave et flot plot. Det vil sige at der er errorbars, akselabels og legend, og at dine datapunkter vises som punkter, og ikke som forbundne linjer.\n",
    "\n",
    "\n",
    "Højden hvorfra bolden slippes angivet i meter:\n",
    "\n",
    "    0.5, 0.7, 0.9, 1, 1.2\n",
    "Tiden det har taget bolden at falde i s:\n",
    "\n",
    "    0.34, 0.39, 0.43, 0.46, 0.50\n",
    "Usikkerheden på tiden:\n",
    "\n",
    "    0.03, 0.02, 0.02, 0.01, 0.02"
   ]
  },
  {
   "cell_type": "code",
   "execution_count": 105,
   "id": "33a7c049",
   "metadata": {},
   "outputs": [
    {
     "data": {
      "text/plain": [
       "<matplotlib.legend.Legend at 0x19cedb6ab50>"
      ]
     },
     "execution_count": 105,
     "metadata": {},
     "output_type": "execute_result"
    },
    {
     "data": {
      "image/png": "[encoded data removed]",
      "text/plain": [
       "<Figure size 640x480 with 1 Axes>"
      ]
     },
     "metadata": {},
     "output_type": "display_data"
    }
   ],
   "source": [
    "# din kode her, husk at impotere matplotlib.pyplot som 'plt'\n",
    "import matplotlib.pyplot as plt\n",
    "from matplotlib import style\n",
    "\n",
    "style.use(\"ggplot\")\n",
    "\n",
    "h_arr = np.array([0.5, 0.7, 0.9, 1, 1.2])\n",
    "t_arr = np.array([0.34, 0.39, 0.43, 0.46, 0.50])\n",
    "t_usikkerhed_arr = np.array([0.03, 0.02, 0.02, 0.01, 0.02])\n",
    "\n",
    "fig, ax = plt.subplots()\n",
    "\n",
    "ax.set_xlabel(\"t / s\")\n",
    "ax.set_ylabel(\"h / m\")\n",
    "ax.set_title(\"Højde og faldtid\")\n",
    "\n",
    "plt.scatter(t_arr, h_arr, label=\"Højde og faltid\")\n",
    "plt.errorbar(t_arr, h_arr, xerr=t_usikkerhed_arr, fmt ='o', ecolor=\"b\")\n",
    "plt.errorbar(t_arr, h_arr, xerr=t_usikkerhed_arr, fmt ='none', ecolor=\"b\", label=\"Usikkerhed for t\")\n",
    "plt.legend(loc=\"upper left\")\n"
   ]
  },
  {
   "cell_type": "code",
   "execution_count": 45,
   "id": "12a27c2b",
   "metadata": {},
   "outputs": [
    {
     "name": "stdout",
     "output_type": "stream",
     "text": [
      "Help on function errorbar in module matplotlib.pyplot:\n",
      "\n",
      "errorbar(x, y, yerr=None, xerr=None, fmt='', ecolor=None, elinewidth=None, capsize=None, barsabove=False, lolims=False, uplims=False, xlolims=False, xuplims=False, errorevery=1, capthick=None, *, data=None, **kwargs)\n",
      "    Plot y versus x as lines and/or markers with attached errorbars.\n",
      "    \n",
      "    *x*, *y* define the data locations, *xerr*, *yerr* define the errorbar\n",
      "    sizes. By default, this draws the data markers/lines as well the\n",
      "    errorbars. Use fmt='none' to draw errorbars without any data markers.\n",
      "    \n",
      "    .. versionadded:: 3.7\n",
      "       Caps and error lines are drawn in polar coordinates on polar plots.\n",
      "    \n",
      "    \n",
      "    Parameters\n",
      "    ----------\n",
      "    x, y : float or array-like\n",
      "        The data positions.\n",
      "    \n",
      "    xerr, yerr : float or array-like, shape(N,) or shape(2, N), optional\n",
      "        The errorbar sizes:\n",
      "    \n",
      "        - scalar: Symmetric +/- values for all data points.\n",
      "        - shape(N,): Symmetric +/-values for each data point.\n",
      "        - shape(2, N): Separate - and + values for each bar. First row\n",
      "          contains the lower errors, the second row contains the upper\n",
      "          errors.\n",
      "        - *None*: No errorbar.\n",
      "    \n",
      "        All values must be >= 0.\n",
      "    \n",
      "        See :doc:`/gallery/statistics/errorbar_features`\n",
      "        for an example on the usage of ``xerr`` and ``yerr``.\n",
      "    \n",
      "    fmt : str, default: ''\n",
      "        The format for the data points / data lines. See `.plot` for\n",
      "        details.\n",
      "    \n",
      "        Use 'none' (case-insensitive) to plot errorbars without any data\n",
      "        markers.\n",
      "    \n",
      "    ecolor : color, default: None\n",
      "        The color of the errorbar lines.  If None, use the color of the\n",
      "        line connecting the markers.\n",
      "    \n",
      "    elinewidth : float, default: None\n",
      "        The linewidth of the errorbar lines. If None, the linewidth of\n",
      "        the current style is used.\n",
      "    \n",
      "    capsize : float, default: :rc:`errorbar.capsize`\n",
      "        The length of the error bar caps in points.\n",
      "    \n",
      "    capthick : float, default: None\n",
      "        An alias to the keyword argument *markeredgewidth* (a.k.a. *mew*).\n",
      "        This setting is a more sensible name for the property that\n",
      "        controls the thickness of the error bar cap in points. For\n",
      "        backwards compatibility, if *mew* or *markeredgewidth* are given,\n",
      "        then they will over-ride *capthick*. This may change in future\n",
      "        releases.\n",
      "    \n",
      "    barsabove : bool, default: False\n",
      "        If True, will plot the errorbars above the plot\n",
      "        symbols. Default is below.\n",
      "    \n",
      "    lolims, uplims, xlolims, xuplims : bool, default: False\n",
      "        These arguments can be used to indicate that a value gives only\n",
      "        upper/lower limits.  In that case a caret symbol is used to\n",
      "        indicate this. *lims*-arguments may be scalars, or array-likes of\n",
      "        the same length as *xerr* and *yerr*.  To use limits with inverted\n",
      "        axes, `~.Axes.set_xlim` or `~.Axes.set_ylim` must be called before\n",
      "        :meth:`errorbar`.  Note the tricky parameter names: setting e.g.\n",
      "        *lolims* to True means that the y-value is a *lower* limit of the\n",
      "        True value, so, only an *upward*-pointing arrow will be drawn!\n",
      "    \n",
      "    errorevery : int or (int, int), default: 1\n",
      "        draws error bars on a subset of the data. *errorevery* =N draws\n",
      "        error bars on the points (x[::N], y[::N]).\n",
      "        *errorevery* =(start, N) draws error bars on the points\n",
      "        (x[start::N], y[start::N]). e.g. errorevery=(6, 3)\n",
      "        adds error bars to the data at (x[6], x[9], x[12], x[15], ...).\n",
      "        Used to avoid overlapping error bars when two series share x-axis\n",
      "        values.\n",
      "    \n",
      "    Returns\n",
      "    -------\n",
      "    `.ErrorbarContainer`\n",
      "        The container contains:\n",
      "    \n",
      "        - plotline: `.Line2D` instance of x, y plot markers and/or line.\n",
      "        - caplines: A tuple of `.Line2D` instances of the error bar caps.\n",
      "        - barlinecols: A tuple of `.LineCollection` with the horizontal and\n",
      "          vertical error ranges.\n",
      "    \n",
      "    Other Parameters\n",
      "    ----------------\n",
      "    data : indexable object, optional\n",
      "        If given, the following parameters also accept a string ``s``, which is\n",
      "        interpreted as ``data[s]`` (unless this raises an exception):\n",
      "    \n",
      "        *x*, *y*, *xerr*, *yerr*\n",
      "    \n",
      "    **kwargs\n",
      "        All other keyword arguments are passed on to the `~.Axes.plot` call\n",
      "        drawing the markers. For example, this code makes big red squares\n",
      "        with thick green edges::\n",
      "    \n",
      "            x, y, yerr = rand(3, 10)\n",
      "            errorbar(x, y, yerr, marker='s', mfc='red',\n",
      "                     mec='green', ms=20, mew=4)\n",
      "    \n",
      "        where *mfc*, *mec*, *ms* and *mew* are aliases for the longer\n",
      "        property names, *markerfacecolor*, *markeredgecolor*, *markersize*\n",
      "        and *markeredgewidth*.\n",
      "    \n",
      "        Valid kwargs for the marker properties are:\n",
      "    \n",
      "        - *dashes*\n",
      "        - *dash_capstyle*\n",
      "        - *dash_joinstyle*\n",
      "        - *drawstyle*\n",
      "        - *fillstyle*\n",
      "        - *linestyle*\n",
      "        - *marker*\n",
      "        - *markeredgecolor*\n",
      "        - *markeredgewidth*\n",
      "        - *markerfacecolor*\n",
      "        - *markerfacecoloralt*\n",
      "        - *markersize*\n",
      "        - *markevery*\n",
      "        - *solid_capstyle*\n",
      "        - *solid_joinstyle*\n",
      "    \n",
      "        Refer to the corresponding `.Line2D` property for more details:\n",
      "    \n",
      "        Properties:\n",
      "        agg_filter: a filter function, which takes a (m, n, 3) float array and a dpi value, and returns a (m, n, 3) array and two offsets from the bottom left corner of the image\n",
      "        alpha: scalar or None\n",
      "        animated: bool\n",
      "        antialiased or aa: bool\n",
      "        clip_box: `.Bbox`\n",
      "        clip_on: bool\n",
      "        clip_path: Patch or (Path, Transform) or None\n",
      "        color or c: color\n",
      "        dash_capstyle: `.CapStyle` or {'butt', 'projecting', 'round'}\n",
      "        dash_joinstyle: `.JoinStyle` or {'miter', 'round', 'bevel'}\n",
      "        dashes: sequence of floats (on/off ink in points) or (None, None)\n",
      "        data: (2, N) array or two 1D arrays\n",
      "        drawstyle or ds: {'default', 'steps', 'steps-pre', 'steps-mid', 'steps-post'}, default: 'default'\n",
      "        figure: `.Figure`\n",
      "        fillstyle: {'full', 'left', 'right', 'bottom', 'top', 'none'}\n",
      "        gapcolor: color or None\n",
      "        gid: str\n",
      "        in_layout: bool\n",
      "        label: object\n",
      "        linestyle or ls: {'-', '--', '-.', ':', '', (offset, on-off-seq), ...}\n",
      "        linewidth or lw: float\n",
      "        marker: marker style string, `~.path.Path` or `~.markers.MarkerStyle`\n",
      "        markeredgecolor or mec: color\n",
      "        markeredgewidth or mew: float\n",
      "        markerfacecolor or mfc: color\n",
      "        markerfacecoloralt or mfcalt: color\n",
      "        markersize or ms: float\n",
      "        markevery: None or int or (int, int) or slice or list[int] or float or (float, float) or list[bool]\n",
      "        mouseover: bool\n",
      "        path_effects: `.AbstractPathEffect`\n",
      "        picker: float or callable[[Artist, Event], tuple[bool, dict]]\n",
      "        pickradius: unknown\n",
      "        rasterized: bool\n",
      "        sketch_params: (scale: float, length: float, randomness: float)\n",
      "        snap: bool or None\n",
      "        solid_capstyle: `.CapStyle` or {'butt', 'projecting', 'round'}\n",
      "        solid_joinstyle: `.JoinStyle` or {'miter', 'round', 'bevel'}\n",
      "        transform: unknown\n",
      "        url: str\n",
      "        visible: bool\n",
      "        xdata: 1D array\n",
      "        ydata: 1D array\n",
      "        zorder: float\n",
      "\n"
     ]
    }
   ],
   "source": [
    "#hvis du har brug for hjælp til errorbars, kør evt denne kode.\n",
    "help(plt.errorbar)"
   ]
  },
  {
   "attachments": {},
   "cell_type": "markdown",
   "id": "bcf7e06f",
   "metadata": {},
   "source": [
    "## Plot af histogrammer\n",
    "\n",
    "Udover at lave plots, så kan det også være rart at have mulighed for at plotte histogrammer. Histogrammer kan laces på baggrund af en række data, som stammer fra det \"samme\" forsøg - altså hvor den samme parameter måles flere gange. Histogrammet viser hyppigheden af dataet i et bestemt interval. Hvis man i lab måler perioden for en penduls svigning flere gange ved de samme omstændigheder (samme længde, startvinkel, osv.), kunne man fx plotte dette i et histogram, for at se, hvordan dataen er spredt. Et eksempel på sådan et datasæte kunne være\n",
    "\n",
    "    1.23, 1.22, 1.21, 1.21, 1.22, 1.22, 1.23, 1.24, 1.20, 1.21, 1.22\n",
    "\n",
    "Man plotter histogrammer i Python med ```plt.hist()``` kommandoen. Her indsætter man som første argument ens array med data, der skal plottes i histogrammet. Man bør derudover specificere hvor mange _bins_ man gerne vil have i sit histogram - altså hvor mange _søjler_ der skal være. Man skal typisk prøve sig frem for at finde en bin-størrelse, der passer til ens datasæt. Hvis man vil plotte et datasæt, som hedder ```datasæt```, og give det 5 bins, så vil man skrive ```plt.hist(datasæt, bins=5)```.\n",
    "\n",
    "Du kan læse mere om histogrammer i Python note (https://python-intro.nbi.ku.dk/notebooks/MekRel/Histogram.html).\n",
    "\n",
    "__Prøv at plotte det givne datasæt for sviningstider ovenfor. Find selv en passende binstørrelse.__\n",
    "\n",
    "Det kan også være smart at kunne plotte middelværdien for sit datasæt, da man tit er interesseret i at se noget statistik om sit datasæt, når man laver et histogram. Dette kan man gøre ved funktionen ```plt.axvline()```, som er indsat i koden nedenfor. Det første indeks er middelværdien (__Indsæt selv middelværdien af datasættet__), og vi har derefter specificeret farven, linjestilen og tykkelsen af linjen - prøv selv at finde en farve og linjetype du kan lide."
   ]
  },
  {
   "cell_type": "code",
   "execution_count": 92,
   "id": "417776c1",
   "metadata": {},
   "outputs": [
    {
     "data": {
      "text/plain": [
       "<matplotlib.lines.Line2D at 0x19ce97f3ad0>"
      ]
     },
     "execution_count": 92,
     "metadata": {},
     "output_type": "execute_result"
    },
    {
     "data": {
      "image/png": "[encoded data removed]",
      "text/plain": [
       "<Figure size 640x480 with 1 Axes>"
      ]
     },
     "metadata": {},
     "output_type": "display_data"
    }
   ],
   "source": [
    "# din kode her. (fjern #'s nedenfor for at bruge koden)\n",
    "svingningstider = np.array([1.23, 1.22, 1.21, 1.21, 1.22, 1.22, 1.23, 1.24, 1.20, 1.21, 1.22])\n",
    "plt.hist(svingningstider, color=\"blue\")\n",
    "plt.axvline(np.mean(svingningstider), color=\"red\", linestyle='dashdot', linewidth=1)\n",
    "\n",
    "\n",
    "\n"
   ]
  },
  {
   "attachments": {},
   "cell_type": "markdown",
   "id": "075cf81e",
   "metadata": {},
   "source": [
    "## Udregninger med numpy og plot af funktioner\n",
    "\n",
    "Nogle gange kan det være godt at vise sine datapunkter sammen med den model, der burde beskrive relationenen mellem datasættene. I tilfældet fra 'Plot af data', hvor faldtiden og sliphøjden af en bold undersøges,kan vi fx. plotte modellen:\n",
    "\n",
    "$$\n",
    "x(t) = \\frac{1}{2} \\cdot g \\cdot t^2\n",
    "$$\n",
    "\n",
    "Læs om hvordan man skriver funktioner i pyhon her: https://python-intro.nbi.ku.dk/notebooks/MekRel/Funktioner_og_Scipy_optimize-checkpoint.html. Opskriv derefter din funktion. Hint: I det her tilfælde er t din eneste variabel. Brug ```np.sqrt()```for at lave en kvadratrod og ```np.pi```for at få $\\pi$ og ```** 2``` for at lave ^2.\n",
    "\n",
    "Når du har skrevet din funktion kan du prøve at bruge den på en dummy variabel der er vores argument i x(t) funktionen. Vores dummy t kan vi fx. lave ved at skrive ```tx = np.linspace(0,1,50)```. Den linje kode laver et numpy array med 50 tal med værdi fra 0 til 1 sekund. Prøv nu at bruge din funktion på arrayet ved at skrive noget i stil med ```udregnede_position = navn_på_funktion(tx)```. Print derefter arrayet.\n",
    "\n",
    "Nu kan vi plotte værdierne ved at skrive ```plt.plot(tx,udregnede_position)```. For at have funktionen i samme plot som din data kan du kopiere de linjer du brugte til at plotte med i cellen under 'Plot af data', og tilføje dem i cellen, hvor du plotter funktionen. Husk at data og funktion skal have samme enheder på akserne."
   ]
  },
  {
   "cell_type": "code",
   "execution_count": 108,
   "id": "4d580824",
   "metadata": {},
   "outputs": [
    {
     "name": "stdout",
     "output_type": "stream",
     "text": [
      "[0.00000000e+00 2.04498126e-03 8.17992503e-03 1.84048313e-02\n",
      " 3.27197001e-02 5.11245314e-02 7.36193253e-02 1.00204082e-01\n",
      " 1.30878800e-01 1.65643482e-01 2.04498126e-01 2.47442732e-01\n",
      " 2.94477301e-01 3.45601833e-01 4.00816327e-01 4.60120783e-01\n",
      " 5.23515202e-01 5.90999584e-01 6.62573928e-01 7.38238234e-01\n",
      " 8.17992503e-01 9.01836735e-01 9.89770929e-01 1.08179509e+00\n",
      " 1.17790920e+00 1.27811329e+00 1.38240733e+00 1.49079134e+00\n",
      " 1.60326531e+00 1.71982924e+00 1.84048313e+00 1.96522699e+00\n",
      " 2.09406081e+00 2.22698459e+00 2.36399833e+00 2.50510204e+00\n",
      " 2.65029571e+00 2.79957934e+00 2.95295294e+00 3.11041649e+00\n",
      " 3.27197001e+00 3.43761349e+00 3.60734694e+00 3.78117035e+00\n",
      " 3.95908372e+00 4.14108705e+00 4.32718034e+00 4.51736360e+00\n",
      " 4.71163682e+00 4.91000000e+00]\n",
      "\n",
      "\n",
      "[0. 0. 0. 0. 0. 0. 0. 0. 0. 0. 0. 0. 0. 0. 0. 0. 1. 1. 1. 1. 1. 1. 1. 1.\n",
      " 1. 1. 1. 1. 2. 2. 2. 2. 2. 2. 2. 3. 3. 3. 3. 3. 3. 3. 4. 4. 4. 4. 4. 5.\n",
      " 5. 5.]\n"
     ]
    },
    {
     "data": {
      "text/plain": [
       "<matplotlib.legend.Legend at 0x19cedd01dd0>"
      ]
     },
     "execution_count": 108,
     "metadata": {},
     "output_type": "execute_result"
    },
    {
     "data": {
      "image/png": "[encoded data removed]",
      "text/plain": [
       "<Figure size 640x480 with 1 Axes>"
      ]
     },
     "metadata": {},
     "output_type": "display_data"
    }
   ],
   "source": [
    "# Din kode her\n",
    "def xFunc(t):\n",
    "    return 1/2 * 9.82 * t**2\n",
    "\n",
    "tx = np.linspace(0, 1, 50)\n",
    "\n",
    "res = xFunc(tx)\n",
    "print(res)\n",
    "print(\"\\n\")\n",
    "print(np.round(res))\n",
    "\n",
    "plt.plot(tx, res, color=\"green\", label=\"x(t)\")\n",
    "\n",
    "plt.scatter(t_arr, h_arr, label=\"Højde og faltid\")\n",
    "plt.errorbar(t_arr, h_arr, xerr=t_usikkerhed_arr, fmt ='o', ecolor=\"b\")\n",
    "plt.errorbar(t_arr, h_arr, xerr=t_usikkerhed_arr, fmt ='none', ecolor=\"b\", label=\"Usikkerhed for t\")\n",
    "\n",
    "plt.legend(loc=\"upper left\")\n",
    "\n"
   ]
  },
  {
   "attachments": {},
   "cell_type": "markdown",
   "id": "2b002221",
   "metadata": {},
   "source": [
    "# For og if-loops \n",
    "\n",
    "For-loops er noget vi bruger, hvis vi gerne vil udføre nogle operationer en masse gange, fx gøre noget ved nogle tal i en liste. If-loops er logiske loops, som du kan bruge til at udføre nogle særlige operationer, hvis et bestemt element overholder nogle bestemte krav - eller til at udvælge noget bestemt data. Det er relativt abstrakt og generelt - fordi det er nogle mekanismer, der kan bruges til _rigtig_ mange ting, så lad os undersøge det lidt i et konkret eksempel.\n",
    "\n",
    "Hvis vi har en liste med alle hele tal fra 0 til 20, så kan vi fx være interesseret i at finde alle lige tal. For at konstruere listen med alle hele tal fra 0 til 20 kan vi bruge numpy funktionen ```np.arange()```. Det første input i funktionen tager det første tal, du gerne vil have med i din liste. Det andet input er det du gerne vil tælle op til, og det tredje indeks er hvilken \"spacing\" der skal være imellem hvert tal. Vi skal dog være opmærksomme på, at listen vil tælle op til det sidste input, men ikke indeholde det. Hvis vi vil have alle hele tal fra 0 til og med 20 vil vi altså skrive ```np.arange(0, 21, 1)```, fordi vi gerne vil tælle fra 0 til 21 (for at inkludere 20), med et mellemrum på 1 imellem hvert tal.\n",
    "\n",
    "Vi vil nu kigge listen igennem og tjekke om tallene er lige - altså om de går op i 2. Vi bruger et for-loop, og tjekker hele listen igennem (vi benytter ```len(tal_liste)```, som netop er mængden af tal i listen ```tal_liste```). Alle disse indekser kalder vi ```i``` - de kunne også hedde alt muligt andet, fx Jørgen, men man bruger typisk ```i```. Vi vil så gerne gøre noget, hvis det i'te element i listen af tal går op i 2 (\"går op i 2\" kan man skrive som ```%2``` i Python. ```%``` betyder modulus og er den 'rest', der er tilbage efter man dividerer. Ex: 5 % 2 = 1). \n",
    "Find selv på noget smart at gøre, hvis det i'te element går op i 2 - spørg gerne din instruktor :-).\n",
    "\n",
    "__Færdiggør koden, og undersøg gerne selv noget sjovt med for- eller if-loops__\n",
    "\n",
    "Du kan læse mere om for- og if-lopps i Python noten: https://python-intro.nbi.ku.dk/notebooks/Andet_python.html."
   ]
  },
  {
   "cell_type": "code",
   "execution_count": 64,
   "id": "5994e852",
   "metadata": {},
   "outputs": [
    {
     "name": "stdout",
     "output_type": "stream",
     "text": [
      "50\n"
     ]
    }
   ],
   "source": [
    "# din kode her.\n",
    "\n",
    "res = 0\n",
    "talliste = np.arange(0, 100, 1)\n",
    "for i in range(len(talliste)):\n",
    "    if talliste[i]%2==0:\n",
    "        res += 1\n",
    "    \n",
    "print(res)\n",
    "\n",
    "\n"
   ]
  },
  {
   "cell_type": "markdown",
   "id": "e33a999d",
   "metadata": {},
   "source": [
    "__Ekstra opgaver__:\n",
    "- Find alle tal, der går op i 3 fra 0 til 20.\n",
    "- Find alle tal der går op i 5 fra 0 til 100.\n",
    "- Find alle primtal fra 0 til 20."
   ]
  },
  {
   "cell_type": "code",
   "execution_count": 82,
   "metadata": {},
   "outputs": [
    {
     "name": "stdout",
     "output_type": "stream",
     "text": [
      "\n",
      "\n",
      "[0, 2, 4, 6, 8, 10, 12, 14, 16, 18, 20, 22, 24, 26, 28, 30, 32, 34, 36, 38, 40, 42, 44, 46, 48, 50, 52, 54, 56, 58, 60, 62, 64, 66, 68, 70, 72, 74, 76, 78, 80, 82, 84, 86, 88, 90, 92, 94, 96, 98]\n",
      "\n",
      "50 Tal går op i 3 fra 0 til 20\n",
      "\n",
      "\n",
      "[0, 2, 4, 6, 8, 10, 12, 14, 16, 18, 20, 22, 24, 26, 28, 30, 32, 34, 36, 38, 40, 42, 44, 46, 48, 50, 52, 54, 56, 58, 60, 62, 64, 66, 68, 70, 72, 74, 76, 78, 80, 82, 84, 86, 88, 90, 92, 94, 96, 98]\n",
      "\n",
      "50 Tal går op i 5 fra 0 til 100\n",
      "\n",
      "\n",
      "Primtallene mellem 0 og 20 er [5, 7, 9, 11, 13, 15, 17, 19]\n"
     ]
    }
   ],
   "source": [
    "# Finder alle tal der går op i x fra a til b\n",
    "def findTal(x, a, b):\n",
    "    res = []\n",
    "    talliste = np.arange(0, 100, 1)\n",
    "    for i in range(len(talliste)):\n",
    "        if talliste[i]%2==0:\n",
    "            res.append(talliste[i])\n",
    "        \n",
    "    print(\"\\n\")\n",
    "    print(res)\n",
    "    print(\"\\n\" + str(len(res)) + \" Tal går op i {} fra {} til {}\".format(x, a, b))\n",
    "\n",
    "# Finder alle primtal mellem a og b\n",
    "def primtal(a, b):\n",
    "    res = []\n",
    "    for n in range(a, b + 1):\n",
    "        if n > 1:\n",
    "            # n er ikke et primtal hvis det kan deles med et tal mellem 2 og 1 / 2 n\n",
    "            for i in range(2, int(n/2) + 1):\n",
    "                if n%i == 0 or n in res:\n",
    "                    break\n",
    "                else:\n",
    "                    res.append(n)\n",
    "    print(\"\\n\")\n",
    "    print(\"Primtallene mellem {} og {} er {}\".format(a, b, res))\n",
    "            \n",
    "\n",
    "\n",
    "findTal(3, 0, 20)\n",
    "findTal(5, 0, 100)\n",
    "primtal(0, 20)\n"
   ]
  }
 ],
 "metadata": {
  "interpreter": {
   "hash": "7ad2d2b061933ccb46f02c21d4dc257a7efb561c7355abd71f7246fa8dd772fc"
  },
  "kernelspec": {
   "display_name": "Python 3.11.4 ('base')",
   "language": "python",
   "name": "python3"
  },
  "language_info": {
   "codemirror_mode": {
    "name": "ipython",
    "version": 3
   },
   "file_extension": ".py",
   "mimetype": "text/x-python",
   "name": "python",
   "nbconvert_exporter": "python",
   "pygments_lexer": "ipython3",
   "version": "3.11.4"
  },
  "vscode": {
   "interpreter": {
    "hash": "3987431a61030be8fa2c88f74f04dd735d848bc4c05be5762a75a5fb4e863e25"
   }
  }
 },
 "nbformat": 4,
 "nbformat_minor": 5
}
