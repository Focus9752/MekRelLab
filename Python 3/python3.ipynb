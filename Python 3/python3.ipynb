{
 "cells": [
  {
   "cell_type": "markdown",
   "metadata": {},
   "source": [
    "Vi starter med at definere en funktion for vores forsøg. En måling defineres som at slå med en terning N gange og lægge øjnene sammen. Dette gentages så 10 000 gange."
   ]
  },
  {
   "cell_type": "code",
   "execution_count": null,
   "metadata": {},
   "outputs": [],
   "source": [
    "import numpy as np\n",
    "\n",
    "np.random.seed(1)\n",
    "\n",
    "# Kast en terning N gange og lægger øjnene sammen. Gentager dette 10 000 gange\n",
    "def diceroll(N):\n",
    "    # Terningens egenskaber\n",
    "    muligheder = [1,2,3,4,5,6]\n",
    "    # Jeg har valgt ikke at vægte terningen, da det var svært at fitte normalfordelingen til en vægtet terning\n",
    "    sandsynligheder = [1/6, 1/6, 1/6, 1/6, 1/6, 1/6]\n",
    "    # Laver N terningekast 10 000 gange\n",
    "    kast_arr = np.random.choice(muligheder, (10000, N), p=sandsynligheder)\n",
    "    # Lægger øjnene sammen\n",
    "    return np.sum(kast_arr, axis = 1)\n",
    "    \n",
    "\n"
   ]
  },
  {
   "cell_type": "markdown",
   "metadata": {},
   "source": [
    "Tæthedsfunktionen for normalfordelingen."
   ]
  },
  {
   "cell_type": "code",
   "execution_count": null,
   "metadata": {},
   "outputs": [],
   "source": [
    "# Normalfordelingen\n",
    "def normal_distribution(x, sigma, mu, k):\n",
    "    return (1/(sigma * np.sqrt(2*np.pi)))*np.exp((-(x-mu)**2)/2*(sigma**2)) * k\n"
   ]
  },
  {
   "cell_type": "markdown",
   "metadata": {},
   "source": [
    "Hjælpefunktion til at afrunde til korrekt antal betydende cifre baseret på usikkerheden.\\\n",
    "\\\n",
    "Hentet fra [dette spørgsmål](https://stackoverflow.com/questions/53976847/report-uncertainty-given-a-mean-and-the-standard-error-show-only-significant-f) på stackoverflow.\\\n",
    "\\\n",
    "Der findes pakker der kan gøre det, men jeg var ikke sikker på om det ville virke på en anden computer så jeg bruger denne metode i stedet for."
   ]
  },
  {
   "cell_type": "code",
   "execution_count": null,
   "metadata": {},
   "outputs": [],
   "source": [
    "from decimal import Decimal\n",
    "from IPython.display import Markdown as md, display_markdown\n",
    "\n",
    "def round_uncert(value, uncertainty):\n",
    "    # Fjerner nuller bag det sidste ciffer i usikkerheden\n",
    "    u = Decimal(uncertainty).normalize()\n",
    "    # Finder positionen af det første ciffer i usikkerheden\n",
    "    exponent = u.adjusted()\n",
    "    # Boolean der gemmer om det første ciffer af usikkerheden er 1\n",
    "    precision = (u.as_tuple().digits[0] == 1)\n",
    "    # Usikkerheden skaleres så dens første ciffer er det første/eneste tal før kommaet\n",
    "    # Hvis det første ciffer er 1 afrundes til 1 decimal, ellers afrundes der til 0 decimaler.\n",
    "    u = u.scaleb(-exponent).quantize(Decimal(10)**-precision)\n",
    "\n",
    "    # Tallet skalere til samme tierpotens som usikkerheden og afrundes\n",
    "    # Returnerer tallet, usikkerheden og tierpotens\n",
    "    return round(Decimal(value).scaleb(-exponent).quantize(u)), u, exponent\n"
   ]
  },
  {
   "cell_type": "markdown",
   "metadata": {},
   "source": [
    "Denne blok laver histogram/normalfordelingsfit for et givent N og plotter det. Desuden udregnes middelværdien.\\\n",
    "\\\n",
    "Bemærk at vi fitter til venstre kant af vores bins, da det får fittets middelværdi til at stemme overens med middelværdien fra np.mean(). Hvis vi fittede til midten af binsne ville toppunktet af tæthedsfunktionen være forskudt 0.5 til højre for middelværdien, hvilket ville se grimt ud når vi plotter det."
   ]
  },
  {
   "cell_type": "code",
   "execution_count": null,
   "metadata": {},
   "outputs": [],
   "source": [
    "import matplotlib.pyplot as plt\n",
    "from scipy.optimize import curve_fit\n",
    "\n",
    "def dice_data(N):\n",
    "    data = diceroll(N)\n",
    "\n",
    "    # Udregn antal bins\n",
    "    bin_num = np.arange(np.min(data),np.max(data)+2)\n",
    "\n",
    "    # Lav histogrammet\n",
    "    counts, bin_edges, patches = plt.hist(data, bins=bin_num, color=\"skyblue\", alpha=0.8, label=\"Histogram\", align=\"left\")\n",
    "\n",
    "    # Fjern den sidste kant for at have N kanter at fitte til \n",
    "    # (den sidste kant er højre kant på den sidste bin)\n",
    "    bin_corners = np.delete(bin_edges, -1)\n",
    "\n",
    "    # Fit tæthedsfunktionen fra normalfordelingen til histogrammet\n",
    "    # Startgættene fandt jeg ved at prøve mig frem\n",
    "    if N == 1:\n",
    "        starting_guess = [0.1, np.mean(data), 0.1]\n",
    "    else:\n",
    "        starting_guess = [1, np.mean(data), 1]\n",
    "\n",
    "    par, cov = curve_fit(normal_distribution, bin_corners, counts, p0=starting_guess, maxfev=100000)\n",
    "    \n",
    "    # Middelværdi og standardafvigelse findes ud fra parametrene fra fittet\n",
    "    # Find middelværdi, standardafvigelse og usikkerhed på middelværdien\n",
    "    mean = np.mean(data)\n",
    "    std = np.std(data)\n",
    "    mean_uncertainty = std / np.sqrt(len(data))\n",
    "\n",
    "    rounded_mean = round_uncert(mean, mean_uncertainty)\n",
    "\n",
    "    # Plot middelværdien med usikkerhed\n",
    "    plt.axvline(mean, color=\"b\", label=\"Middelværdi\")\n",
    "    plt.axvline(mean - mean_uncertainty, color=\"cyan\", label=\"Usikkerhed på middelværdien\")\n",
    "    plt.axvline(mean + mean_uncertainty, color=\"cyan\")\n",
    "    \n",
    "    # Plot tæthedsfunktionen\n",
    "    X = np.linspace(0, max(bin_edges + 2), 100*len(data))\n",
    "    plt.plot(X, normal_distribution(X, *par), color=\"r\", linestyle='dashed', label=\"Fit til normalfordelingen\")\n",
    "\n",
    "    plt.xlim(min(bin_edges - 1), max(bin_edges + 1))\n",
    "    plt.title(\"Histogram over summer med N = {}\".format(N))\n",
    "    plt.grid()\n",
    "    plt.legend()\n",
    "    plt.show()\n",
    "\n",
    "    # Vis middelværdi med usikkerhed\n",
    "    display_markdown(md(r\"Middelværdi af summen for {} kast: $({} \\pm {}) \\cdot 10^{}$\".format(N, rounded_mean[0], str(rounded_mean[1]), rounded_mean[2])))\n",
    "\n",
    "\n"
   ]
  },
  {
   "cell_type": "markdown",
   "metadata": {},
   "source": [
    "For at få konsekvente resultater."
   ]
  },
  {
   "cell_type": "code",
   "execution_count": null,
   "metadata": {},
   "outputs": [],
   "source": [
    "# ( ͡° ͜ʖ ͡°)\n",
    "np.random.seed(69)"
   ]
  },
  {
   "cell_type": "markdown",
   "metadata": {},
   "source": [
    "Nu mangler vi kun at plotte plotsne og vise middelværdierne."
   ]
  },
  {
   "cell_type": "code",
   "execution_count": null,
   "metadata": {},
   "outputs": [],
   "source": [
    "dice_data(1)\n",
    "dice_data(5)\n",
    "dice_data(10)\n",
    "dice_data(50)"
   ]
  }
 ],
 "metadata": {
  "kernelspec": {
   "display_name": "base",
   "language": "python",
   "name": "python3"
  },
  "language_info": {
   "codemirror_mode": {
    "name": "ipython",
    "version": 3
   },
   "file_extension": ".py",
   "mimetype": "text/x-python",
   "name": "python",
   "nbconvert_exporter": "python",
   "pygments_lexer": "ipython3",
   "version": "3.11.4"
  }
 },
 "nbformat": 4,
 "nbformat_minor": 2
}
