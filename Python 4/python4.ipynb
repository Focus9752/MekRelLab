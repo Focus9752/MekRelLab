{
 "cells": [
  {
   "cell_type": "markdown",
   "metadata": {},
   "source": [
    "### Bevægelsesligninger\n",
    "\n",
    "Den resulterende kraft på et objekt udsat for luftmodstand i et skråt kast er\n",
    "\n",
    "$$\\mathbf{F_{objekt}} = m \\mathbf{g} - \\alpha | \\mathbf{v} |^2 \\cdot  \\hat{\\mathbf{v}} = m \\vec{g} - \\alpha | \\mathbf{v} | \\cdot  \\mathbf{v}$$\n",
    "\n",
    "Vi ser at kraftligningerne langs x- og y-aksen er\n",
    "\n",
    "$$\\Sigma F_x = - \\alpha | \\mathbf{v} | \\cdot v_x = m a_x$$\n",
    "\n",
    "$$\\Sigma F_y = - m \\mathbf{g} - \\alpha | \\mathbf{v} | \\cdot  v_y = m a_y$$\n",
    "\n",
    "Accelerationen af objektet er givet ved\n",
    "\n",
    "$$\n",
    "\\mathbf{a} = \\frac{d\\mathbf{v}}{dt} =\n",
    "\\begin{bmatrix}\n",
    "a_x \\\\\n",
    "a_y \\\\\n",
    "\\end{bmatrix}\n",
    "=\n",
    "\\begin{bmatrix}\n",
    "- \\frac{\\alpha}{m} | \\mathbf{v} | \\cdot  v_x \\\\\n",
    "- g - \\frac{\\alpha}{m} | \\mathbf{v} | \\cdot  v_y \\\\\n",
    "\\end{bmatrix}\n",
    "$$\n",
    "\n"
   ]
  },
  {
   "cell_type": "markdown",
   "metadata": {},
   "source": [
    "$ \\mathbf{a} $ ændrer sig hele tiden, men for tilpas korte tidsintervaller $\\Delta t$ er den tilnærmelsesvis konstant og svarer til gennemsnitshastigheden over tidsintervallet. Dvs. at vi kan bruge ligningen\n",
    "\n",
    "$$ \\mathbf{a} = \\frac{\\Delta \\mathbf{v}}{\\Delta t} $$\n",
    "\n",
    "$$ \\rightarrow  \\Delta \\mathbf{v} = \\mathbf{a} \\cdot \\Delta t $$\n",
    "\n",
    "\n",
    "Med hensyn til ændringen i objektets position ved vi at gennemsnitshastigheden over tidsintervallet er givet ved\n",
    "\n",
    "$$ \\frac{(\\mathbf{v} + (\\mathbf{v} + \\Delta \\mathbf{v}))}{2} = \\\\\n",
    "(\\mathbf{v} + \\frac{\\Delta \\mathbf{v}}{2})$$\n",
    "\n",
    "Eftersom $\\mathbf{v}$ er hastigheden i starten af tidsintervallet og $\\mathbf{v} + \\Delta \\mathbf{v}$ er hastigheden i slutningen af tidsintervallet.\n",
    "\n",
    "Altså må ændringen i positionen være givet ved\n",
    "\n",
    "$$\\Delta \\mathbf{s} = (\\mathbf{v} + \\frac{\\Delta \\mathbf{v}}{2}) \\cdot \\Delta t $$\n",
    "\n",
    "$$ = \\mathbf{v} \\cdot \\Delta t + \\frac{\\Delta \\mathbf{v} \\cdot \\Delta t}{2} $$\n",
    "\n",
    "$$ = \\mathbf{v} \\cdot \\Delta t + \\frac{\\mathbf{a} \\cdot {\\Delta t}^2}{2} $$"
   ]
  },
  {
   "cell_type": "markdown",
   "metadata": {},
   "source": [
    "### Implementering\n",
    "\n",
    "Nu er vi klar til at lave simulationen. Vi starter med nogle begyndelsesbetingelser og laver en løkke der ændrer på boldens position og hastighed løbende."
   ]
  },
  {
   "cell_type": "code",
   "execution_count": 31,
   "metadata": {},
   "outputs": [
    {
     "data": {
      "image/png": "[encoded data removed]",
      "text/plain": [
       "<Figure size 640x480 with 1 Axes>"
      ]
     },
     "metadata": {},
     "output_type": "display_data"
    }
   ],
   "source": [
    "import matplotlib.pyplot as plt\n",
    "import numpy as np\n",
    "\n",
    "def len(vector):\n",
    "    return np.linalg.norm(vector)\n",
    "\n",
    "# Tager s_0 som et array eller en tuple\n",
    "def simulate_throw(alpha, g, m, v_0, s_0, theta_0, Delta_t):\n",
    "    # Startbetingelser\n",
    "    t = 0\n",
    "    s = np.array(s_0)\n",
    "    v = v_0 * np.array([np.cos(theta_0), np.sin(theta_0)])\n",
    "    \n",
    "    a = np.array([0,0])\n",
    "\n",
    "    # For at gemme objektets bevægelse i løbet af simulationen\n",
    "    x_arr = []\n",
    "    y_arr = []\n",
    "    t_arr = []\n",
    "\n",
    "    # Kør simulationen indtil objektet rammer jorden\n",
    "    while (s[1] > 0):\n",
    "        # Udregn t\n",
    "        t += Delta_t\n",
    "\n",
    "        # Udregn accelerationen\n",
    "        a[0] = -(alpha/m)*len(v)*v[0]\n",
    "        a[1] = -g -(alpha/m)*len(v)*v[1]\n",
    "\n",
    "        # Udregn hastighedsændring\n",
    "        v = v + a * Delta_t\n",
    "        \n",
    "        # Udregn positionsændring\n",
    "        s = s + v * Delta_t + (a * Delta_t**2)/2\n",
    "\n",
    "        # Gem position\n",
    "        x_arr.append(s[0])\n",
    "        y_arr.append(s[1])\n",
    "        t_arr.append(t)\n",
    "\n",
    "    # Plot objektets bane\n",
    "    plt.figure(1)\n",
    "    plt.grid()\n",
    "    plt.plot(x_arr, y_arr)\n",
    "    plt.xlim(0, max(x_arr))\n",
    "    plt.ylim(0, max(y_arr))\n",
    "    plt.show()\n",
    "\n",
    "simulate_throw(alpha=0.1, g=10, m=0.1, v_0=10, s_0=[0, 1], theta_0=(np.pi / 4), Delta_t=0.001)\n",
    "\n",
    "\n",
    "\n",
    "        \n",
    "\n",
    "\n",
    "\n",
    "\n",
    "\n"
   ]
  }
 ],
 "metadata": {
  "kernelspec": {
   "display_name": "base",
   "language": "python",
   "name": "python3"
  },
  "language_info": {
   "codemirror_mode": {
    "name": "ipython",
    "version": 3
   },
   "file_extension": ".py",
   "mimetype": "text/x-python",
   "name": "python",
   "nbconvert_exporter": "python",
   "pygments_lexer": "ipython3",
   "version": "3.11.4"
  }
 },
 "nbformat": 4,
 "nbformat_minor": 2
}
