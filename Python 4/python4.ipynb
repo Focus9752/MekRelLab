{
 "cells": [
  {
   "cell_type": "markdown",
   "metadata": {},
   "source": [
    "### Bevægelsesligninger\n",
    "\n",
    "Den resulterende kraft på objektet er\n",
    "\n",
    "$$\\mathbf{F_{objekt}} = m \\mathbf{g} - \\alpha | \\mathbf{v} |^2 \\cdot  \\hat{\\mathbf{v}} = m \\vec{g} - \\alpha | \\mathbf{v} | \\cdot  \\mathbf{v}$$\n",
    "\n",
    "Vi ser at kraftligningerne langs x- og y-aksen er\n",
    "\n",
    "$$\\Sigma F_x = - \\alpha | \\mathbf{v} | \\cdot v_x = m a_x$$\n",
    "\n",
    "$$\\Sigma F_y = - m \\mathbf{g} - \\alpha | \\mathbf{v} | \\cdot  v_y = m a_y$$\n",
    "\n",
    "Accelerationen af objektet er givet ved\n",
    "\n",
    "$$\n",
    "\\mathbf{a} = \\frac{d\\mathbf{v}}{dt} =\n",
    "\\begin{bmatrix}\n",
    "a_x \\\\\n",
    "a_y \\\\\n",
    "\\end{bmatrix}\n",
    "=\n",
    "\\begin{bmatrix}\n",
    "- \\frac{\\alpha}{m} | \\mathbf{v} | \\cdot  v_x \\\\\n",
    "- g - \\frac{\\alpha}{m} | \\mathbf{v} | \\cdot  v_y \\\\\n",
    "\\end{bmatrix}\n",
    "$$\n",
    "\n"
   ]
  },
  {
   "cell_type": "markdown",
   "metadata": {},
   "source": [
    "$ \\mathbf{a} $ ændrer sig hele tiden, men for tilpas korte tidsintervaller $\\Delta t$ er den tilnærmelsesvis konstant. Dvs. at vi kan bruge ligningen\n",
    "\n",
    "$$ \\mathbf{a} = \\frac{\\Delta \\mathbf{v}}{\\Delta t} $$\n",
    "\n",
    "$$ \\rightarrow  \\Delta \\mathbf{v} = \\mathbf{a} \\cdot \\Delta t $$\n",
    "\n",
    "\n",
    "Med hensyn til ændringen i objektets position ved vi at gennemsnitshastigheden over tidsintervallet er givet ved\n",
    "\n",
    "$$ \\frac{(\\mathbf{v} + (\\mathbf{v} + \\Delta \\mathbf{v}))}{2} = \\\\\n",
    "(\\mathbf{v} + \\frac{\\Delta \\mathbf{v}}{2})$$\n",
    "\n",
    "Eftersom $\\mathbf{v}$ er hastigheden i starten af tidsintervallet og $\\mathbf{v} + \\Delta \\mathbf{v}$ er hastigheden i slutningen af tidsintervallet.\n",
    "\n",
    "Altså må ændringen i positionen være givet ved\n",
    "\n",
    "$$\\Delta s = (\\mathbf{v} + \\frac{\\Delta \\mathbf{v}}{2}) \\cdot \\Delta t $$\n",
    "\n",
    "$$ = \\mathbf{v} \\cdot \\Delta t + \\frac{\\Delta \\mathbf{v} \\cdot \\Delta t}{2} $$\n",
    "\n",
    "$$ = \\mathbf{v} \\cdot \\Delta t + \\frac{\\mathbf{a} \\cdot {\\Delta t}^2}{2} $$"
   ]
  },
  {
   "cell_type": "markdown",
   "metadata": {},
   "source": [
    "### Implementering\n",
    "\n",
    "Nu er vi klar til at lave simulationen. Vi starter med nogle begyndelsesbetingelser og laver en løkke der ændrer på boldens position og hastighed løbende."
   ]
  },
  {
   "cell_type": "code",
   "execution_count": 8,
   "metadata": {},
   "outputs": [
    {
     "ename": "UFuncTypeError",
     "evalue": "Cannot cast ufunc 'add' output from dtype('float64') to dtype('int32') with casting rule 'same_kind'",
     "output_type": "error",
     "traceback": [
      "\u001b[1;31m---------------------------------------------------------------------------\u001b[0m",
      "\u001b[1;31mUFuncTypeError\u001b[0m                            Traceback (most recent call last)",
      "Cell \u001b[1;32mIn[8], line 43\u001b[0m\n\u001b[0;32m     40\u001b[0m     plt\u001b[38;5;241m.\u001b[39mplot(pos[:,\u001b[38;5;241m0\u001b[39m], pos[:,\u001b[38;5;241m1\u001b[39m])\n\u001b[0;32m     41\u001b[0m     plt\u001b[38;5;241m.\u001b[39mshow()\n\u001b[1;32m---> 43\u001b[0m simulate_throw(alpha\u001b[38;5;241m=\u001b[39m\u001b[38;5;241m0.1\u001b[39m, g\u001b[38;5;241m=\u001b[39m\u001b[38;5;241m10\u001b[39m, m\u001b[38;5;241m=\u001b[39m\u001b[38;5;241m0.1\u001b[39m, v_0\u001b[38;5;241m=\u001b[39m\u001b[38;5;241m10\u001b[39m, s_0\u001b[38;5;241m=\u001b[39m[\u001b[38;5;241m0\u001b[39m, \u001b[38;5;241m1\u001b[39m], theta_0\u001b[38;5;241m=\u001b[39m(np\u001b[38;5;241m.\u001b[39mpi \u001b[38;5;241m/\u001b[39m \u001b[38;5;241m4\u001b[39m), Delta_t\u001b[38;5;241m=\u001b[39m\u001b[38;5;241m0.001\u001b[39m)\n",
      "Cell \u001b[1;32mIn[8], line 32\u001b[0m, in \u001b[0;36msimulate_throw\u001b[1;34m(alpha, g, m, v_0, s_0, theta_0, Delta_t)\u001b[0m\n\u001b[0;32m     29\u001b[0m v \u001b[38;5;241m+\u001b[39m\u001b[38;5;241m=\u001b[39m a \u001b[38;5;241m*\u001b[39m Delta_t\n\u001b[0;32m     31\u001b[0m \u001b[38;5;66;03m# Udregn positionsændring\u001b[39;00m\n\u001b[1;32m---> 32\u001b[0m s \u001b[38;5;241m+\u001b[39m\u001b[38;5;241m=\u001b[39m v \u001b[38;5;241m*\u001b[39m Delta_t \u001b[38;5;241m+\u001b[39m (a \u001b[38;5;241m*\u001b[39m Delta_t\u001b[38;5;241m*\u001b[39m\u001b[38;5;241m*\u001b[39m\u001b[38;5;241m2\u001b[39m)\u001b[38;5;241m/\u001b[39m\u001b[38;5;241m2\u001b[39m\n\u001b[0;32m     34\u001b[0m \u001b[38;5;66;03m# Gem position\u001b[39;00m\n\u001b[0;32m     35\u001b[0m pos \u001b[38;5;241m=\u001b[39m np\u001b[38;5;241m.\u001b[39mappend(pos, (s[\u001b[38;5;241m0\u001b[39m], s[\u001b[38;5;241m1\u001b[39m], t))\n",
      "\u001b[1;31mUFuncTypeError\u001b[0m: Cannot cast ufunc 'add' output from dtype('float64') to dtype('int32') with casting rule 'same_kind'"
     ]
    }
   ],
   "source": [
    "import matplotlib.pyplot as plt\n",
    "import numpy as np\n",
    "\n",
    "def len(vector):\n",
    "    return np.linalg.norm(vector)\n",
    "\n",
    "# Tager s_0 som et array eller en tuple\n",
    "def simulate_throw(alpha, g, m, v_0, s_0, theta_0, Delta_t):\n",
    "    # Startbetingelser\n",
    "    t = 0\n",
    "    s = np.array(s_0)\n",
    "    v = v_0 * np.array([np.cos(theta_0), np.sin(theta_0)])\n",
    "    \n",
    "    a = np.array([0,0])\n",
    "\n",
    "    # For at gemme objektets bevægelse i løbet af simulationen\n",
    "    pos = [(s_0[0], s_0[1], 0)] # (x, y, t)\n",
    "\n",
    "    # Kør simulationen indtil objektet rammer jorden\n",
    "    while (s[1] > 0):\n",
    "        # Udregn t\n",
    "        t += Delta_t\n",
    "\n",
    "        # Udregn accelerationen\n",
    "        a[0] = -(alpha/m)*len(v)*v[0]\n",
    "        a[1] = -g -(alpha/m)*len(v)*v[1]\n",
    "\n",
    "        # Udregn hastighedsændring\n",
    "        v += a * Delta_t\n",
    "\n",
    "        # Udregn positionsændring\n",
    "        s += v * Delta_t + (a * Delta_t**2)/2\n",
    "\n",
    "        # Gem position\n",
    "        pos = np.append(pos, (s[0], s[1], t))\n",
    "\n",
    "    # Plot objektets bane\n",
    "    plt.figure(1)\n",
    "    plt.grid()\n",
    "    plt.plot(pos[:,0], pos[:,1])\n",
    "    plt.show()\n",
    "\n",
    "simulate_throw(alpha=0.1, g=10, m=0.1, v_0=10, s_0=[0, 1], theta_0=(np.pi / 4), Delta_t=0.001)\n",
    "\n",
    "\n",
    "\n",
    "        \n",
    "\n",
    "\n",
    "\n",
    "\n",
    "\n"
   ]
  }
 ],
 "metadata": {
  "kernelspec": {
   "display_name": "base",
   "language": "python",
   "name": "python3"
  },
  "language_info": {
   "codemirror_mode": {
    "name": "ipython",
    "version": 3
   },
   "file_extension": ".py",
   "mimetype": "text/x-python",
   "name": "python",
   "nbconvert_exporter": "python",
   "pygments_lexer": "ipython3",
   "version": "3.11.4"
  }
 },
 "nbformat": 4,
 "nbformat_minor": 2
}
